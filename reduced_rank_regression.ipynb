{
 "cells": [
  {
   "cell_type": "code",
   "execution_count": 1,
   "id": "2e7d858e-f506-493e-b82e-601754136865",
   "metadata": {},
   "outputs": [
    {
     "name": "stdout",
     "output_type": "stream",
     "text": [
      "Epoch 10/200, Loss: 34.8750\n",
      "Epoch 20/200, Loss: 27.1500\n",
      "Epoch 30/200, Loss: 21.7857\n",
      "Epoch 40/200, Loss: 17.9869\n",
      "Epoch 50/200, Loss: 15.2536\n",
      "Epoch 60/200, Loss: 13.2645\n",
      "Epoch 70/200, Loss: 11.8022\n",
      "Epoch 80/200, Loss: 10.7191\n",
      "Epoch 90/200, Loss: 9.9143\n",
      "Epoch 100/200, Loss: 9.3143\n",
      "Epoch 110/200, Loss: 8.8641\n",
      "Epoch 120/200, Loss: 8.5234\n",
      "Epoch 130/200, Loss: 8.2634\n",
      "Epoch 140/200, Loss: 8.0641\n",
      "Epoch 150/200, Loss: 7.9110\n",
      "Epoch 160/200, Loss: 7.7930\n",
      "Epoch 170/200, Loss: 7.7013\n",
      "Epoch 180/200, Loss: 7.6292\n",
      "Epoch 190/200, Loss: 7.5717\n",
      "Epoch 200/200, Loss: 7.5250\n",
      "Predictions shape: torch.Size([100, 5])\n"
     ]
    }
   ],
   "source": [
    "import torch\n",
    "import torch.nn as nn\n",
    "import torch.optim as optim\n",
    "\n",
    "# Define the Low-Rank Regression Model\n",
    "class LowRankRegression(nn.Module):\n",
    "    def __init__(self, input_dim, output_dim, rank):\n",
    "        \"\"\"\n",
    "        Args:\n",
    "            input_dim: Number of input features\n",
    "            output_dim: Number of output features\n",
    "            rank: Rank for the low-rank decomposition\n",
    "        \"\"\"\n",
    "        super(LowRankRegression, self).__init__()\n",
    "        # Low-rank factor matrices\n",
    "        self.U = nn.Parameter(torch.randn(input_dim, rank))\n",
    "        self.V = nn.Parameter(torch.randn(output_dim, rank))\n",
    "        \n",
    "    def forward(self, X):\n",
    "        \"\"\"\n",
    "        Forward pass: X -> Output\n",
    "        Args:\n",
    "            X: Input data of shape (batch_size, input_dim)\n",
    "        Returns:\n",
    "            Predicted output of shape (batch_size, output_dim)\n",
    "        \"\"\"\n",
    "        W = self.U @ self.V.T  # Low-rank approximation of W\n",
    "        return X @ W\n",
    "\n",
    "# Generate Synthetic Data for Testing\n",
    "def generate_data(n_samples, input_dim, output_dim, noise_std=0.1):\n",
    "    \"\"\"\n",
    "    Generate synthetic data for testing.\n",
    "    Args:\n",
    "        n_samples: Number of samples\n",
    "        input_dim: Number of input features\n",
    "        output_dim: Number of output features\n",
    "        noise_std: Standard deviation of noise\n",
    "    Returns:\n",
    "        X, Y: Input data and target outputs\n",
    "    \"\"\"\n",
    "    torch.manual_seed(0)  # For reproducibility\n",
    "    true_W = torch.randn(input_dim, output_dim)\n",
    "    X = torch.randn(n_samples, input_dim)\n",
    "    noise = noise_std * torch.randn(n_samples, output_dim)\n",
    "    Y = X @ true_W + noise\n",
    "    return X, Y\n",
    "\n",
    "# Training the Model\n",
    "def train_model(model, X, Y, lambda_=1.0 ,lr=0.01, n_epochs=100):\n",
    "    \"\"\"\n",
    "    Train the low-rank regression model.\n",
    "    Args:\n",
    "        model: Low-rank regression model\n",
    "        X: Input data\n",
    "        Y: Target outputs\n",
    "        lr: Learning rate\n",
    "        n_epochs: Number of epochs\n",
    "    Returns:\n",
    "        Trained model\n",
    "    \"\"\"\n",
    "    optimizer = optim.Adam(model.parameters(), lr=lr)\n",
    "    loss_fn = nn.MSELoss()\n",
    "    for epoch in range(n_epochs):\n",
    "        model.train()\n",
    "        optimizer.zero_grad()\n",
    "        predictions = model(X)\n",
    "        loss = loss_fn(predictions, Y) + lambda_* torch.norm(model.U @ model.V.T)\n",
    "        loss.backward()\n",
    "        optimizer.step()\n",
    "        if (epoch + 1) % 10 == 0:\n",
    "            print(f\"Epoch {epoch + 1}/{n_epochs}, Loss: {loss.item():.4f}\")\n",
    "    return model\n",
    "\n",
    "# Hyperparameters\n",
    "input_dim = 10\n",
    "output_dim = 5\n",
    "rank = 3\n",
    "n_samples = 100\n",
    "\n",
    "# Generate data\n",
    "X, Y = generate_data(n_samples, input_dim, output_dim)\n",
    "\n",
    "# Initialize and train the model\n",
    "model = LowRankRegression(input_dim=input_dim, output_dim=output_dim, rank=rank)\n",
    "trained_model = train_model(model, X, Y, lr=0.01, n_epochs=200)\n",
    "\n",
    "# Test the model\n",
    "model.eval()\n",
    "with torch.no_grad():\n",
    "    test_predictions = model(X)\n",
    "    print(\"Predictions shape:\", test_predictions.shape)"
   ]
  },
  {
   "cell_type": "code",
   "execution_count": 2,
   "id": "00d4c2a3-c372-4af6-ad59-38bfff1d8d44",
   "metadata": {},
   "outputs": [
    {
     "data": {
      "text/plain": [
       "torch.Size([100, 5])"
      ]
     },
     "execution_count": 2,
     "metadata": {},
     "output_type": "execute_result"
    }
   ],
   "source": [
    "Y.shape"
   ]
  },
  {
   "cell_type": "code",
   "execution_count": 3,
   "id": "de26ba4b-42c8-4f8b-a79f-d5ddf4358202",
   "metadata": {},
   "outputs": [
    {
     "data": {
      "text/plain": [
       "torch.Size([100, 10])"
      ]
     },
     "execution_count": 3,
     "metadata": {},
     "output_type": "execute_result"
    }
   ],
   "source": [
    "X.shape"
   ]
  },
  {
   "cell_type": "code",
   "execution_count": 4,
   "id": "388b57d7-eeb0-4fa6-a62a-44be17877b47",
   "metadata": {},
   "outputs": [],
   "source": [
    "# Load the data\n",
    "import pickle\n",
    "import numpy as np\n",
    "import matplotlib.pyplot as plt\n",
    "import netCDF4 as netcdf\n",
    "\n",
    "with open('ssp585_time_series.pkl', 'rb') as f:\n",
    "    dic_ssp585 = pickle.load(f)"
   ]
  },
  {
   "cell_type": "code",
   "execution_count": 5,
   "id": "e093928a-5c86-43d1-9e22-070946186b65",
   "metadata": {},
   "outputs": [
    {
     "name": "stdout",
     "output_type": "stream",
     "text": [
      "Files and directories in ' /net/atmos/data/cmip6-ng/tos/ann/g025 ' :\n"
     ]
    }
   ],
   "source": [
    "import os \n",
    "\n",
    "# Get the list of all files and directories\n",
    "path = \"/net/atmos/data/cmip6-ng/tos/ann/g025\"\n",
    "dir_list = os.listdir(path)\n",
    "\n",
    "print(\"Files and directories in '\", path, \"' :\")\n",
    "\n",
    "list_model = []\n",
    "list_forcing = []\n",
    "\n",
    "for idx, file in enumerate(dir_list):\n",
    "\n",
    "    file_split = file.split(\"_\")\n",
    "    \n",
    "    # extract model names\n",
    "    model_name = file_split[2]\n",
    "    forcing = file_split[3]\n",
    "    run_name = file_split[4]\n",
    "    \n",
    "    list_model.append(model_name)\n",
    "    list_forcing.append(forcing)\n",
    "    \n",
    "model_names = list(set(list_model))\n",
    "forcing_names = list(set(list_forcing))"
   ]
  },
  {
   "cell_type": "code",
   "execution_count": 6,
   "id": "17155d86-cc72-488a-a317-3196fc799742",
   "metadata": {},
   "outputs": [],
   "source": [
    "import netCDF4 as netcdf\n",
    "\n",
    "# define the file\n",
    "file = '/net/h2o/climphys3/simondi/cope-analysis/data/erss/sst_annual_g050_mean_19812014_centered.nc'\n",
    "\n",
    "# read the dataset\n",
    "file2read = netcdf.Dataset(file,'r')\n",
    "\n",
    "# load longitude, latitude and sst monthly means\n",
    "lon = np.array(file2read.variables['lon'][:])\n",
    "lat = np.array(file2read.variables['lat'][:])\n",
    "sst = np.array(file2read.variables['sst'])\n",
    "\n",
    "# define grid\n",
    "lat_grid, lon_grid = np.meshgrid(lat, lon, indexing='ij')\n",
    "\n",
    "time_period = 33\n",
    "grid_lat_size = lat.shape[0]\n",
    "grid_lon_size = lon.shape[0]"
   ]
  },
  {
   "cell_type": "code",
   "execution_count": 7,
   "id": "a8cfdb24-8652-49ea-9727-61f9dcd0b3e1",
   "metadata": {},
   "outputs": [],
   "source": [
    "import skimage\n",
    "\n",
    "# first filter out the models that do not contain ensemble members \n",
    "dic_reduced_ssp585 = {}\n",
    "\n",
    "for m in list(dic_ssp585.keys()):\n",
    "    if len(dic_ssp585[m].keys()) > 2:\n",
    "        dic_reduced_ssp585[m] = dic_ssp585[m].copy()\n",
    "        for idx_i, i in enumerate(dic_ssp585[m].keys()):\n",
    "            dic_reduced_ssp585[m][i] = skimage.transform.downscale_local_mean(dic_reduced_ssp585[m][i],(1,2,2))\n",
    "            lat_size = dic_reduced_ssp585[m][i][0,:,:].shape[0]\n",
    "            lon_size = dic_reduced_ssp585[m][i][0,:,:].shape[1]"
   ]
  },
  {
   "cell_type": "code",
   "execution_count": 8,
   "id": "f07b0b68-36f4-4ded-ae50-b5fad167b3ab",
   "metadata": {},
   "outputs": [],
   "source": [
    "nan_idx = []\n",
    "for idx_m,m in enumerate(dic_reduced_ssp585.keys()):\n",
    "    for idx_i,i in enumerate(dic_reduced_ssp585[m].keys()):    \n",
    "        nan_idx_tmp = list(np.where(np.isnan(dic_reduced_ssp585[m][i][0,:,:].ravel())==True)[0])\n",
    "        nan_idx = list(set(nan_idx) | set(nan_idx_tmp))\n",
    "\n",
    "notnan_idx = list(set(list(range(lon_size*lat_size))) - set(nan_idx))"
   ]
  },
  {
   "cell_type": "code",
   "execution_count": 9,
   "id": "02f7c665-bef1-44e3-adfd-ad338750506d",
   "metadata": {},
   "outputs": [
    {
     "name": "stderr",
     "output_type": "stream",
     "text": [
      "/tmp/ipykernel_41466/2788081108.py:17: RuntimeWarning: Mean of empty slice\n",
      "  mean_ref_ensemble = np.nanmean(y_tmp[idx_i,:,:],axis=0)/ len(dic_reduced_ssp585[m].keys())\n",
      "/tmp/ipykernel_41466/2788081108.py:19: RuntimeWarning: Mean of empty slice\n",
      "  mean_ref_ensemble += np.nanmean(y_tmp[idx_i,:,:],axis=0)/ len(dic_reduced_ssp585[m].keys())\n"
     ]
    }
   ],
   "source": [
    "# second, for each model we compute the anomalies \n",
    "dic_processed_ssp585 = {}\n",
    "\n",
    "import numpy as np\n",
    "\n",
    "for idx_m,m in enumerate(dic_reduced_ssp585.keys()):\n",
    "    dic_processed_ssp585[m] = dic_reduced_ssp585[m].copy()\n",
    "    \n",
    "    mean_ref_ensemble = 0\n",
    "    y_tmp = np.zeros((len(dic_reduced_ssp585[m].keys()),time_period, lat_size*lon_size))\n",
    "    \n",
    "    for idx_i, i in enumerate(dic_reduced_ssp585[m].keys()):\n",
    "        y_tmp[idx_i,:,:] = dic_reduced_ssp585[m][i][131:164,:,:].copy().reshape(time_period, lat_size*lon_size)\n",
    "        y_tmp[idx_i,:,nan_idx] = float('nan')\n",
    "           \n",
    "        if idx_i == 0:\n",
    "            mean_ref_ensemble = np.nanmean(y_tmp[idx_i,:,:],axis=0)/ len(dic_reduced_ssp585[m].keys())\n",
    "        else:\n",
    "            mean_ref_ensemble += np.nanmean(y_tmp[idx_i,:,:],axis=0)/ len(dic_reduced_ssp585[m].keys())\n",
    "\n",
    "    for idx_i, i in enumerate(dic_processed_ssp585[m].keys()):\n",
    "        dic_processed_ssp585[m][i] = y_tmp[idx_i,:,:] - mean_ref_ensemble"
   ]
  },
  {
   "cell_type": "code",
   "execution_count": 10,
   "id": "057b02a5-d11d-46f1-80e7-ac88c74a4529",
   "metadata": {},
   "outputs": [],
   "source": [
    "# compute the forced response\n",
    "dic_forced_response_ssp585 = dict({})\n",
    "dic_forced_response_ssp585_tmp = {}\n",
    "\n",
    "for idx_m,m in enumerate(dic_reduced_ssp585.keys()):\n",
    "    dic_forced_response_ssp585[m] = dic_reduced_ssp585[m].copy()\n",
    "    dic_forced_response_ssp585_tmp[m] = dic_reduced_ssp585[m].copy()\n",
    "\n",
    "    for idx_i, i in enumerate(dic_forced_response_ssp585[m].keys()):\n",
    "        \n",
    "        y_tmp = dic_reduced_ssp585[m][i][131:164,:,:].copy().reshape(time_period, lat_size*lon_size)\n",
    "        y_tmp[:,nan_idx] = float('nan')\n",
    "\n",
    "        if idx_i == 0:\n",
    "            mean_spatial_ensemble = y_tmp/ len(dic_forced_response_ssp585[m].keys())\n",
    "        else:\n",
    "            mean_spatial_ensemble += y_tmp/ len(dic_forced_response_ssp585[m].keys())\n",
    "\n",
    "    for idx_i, i in enumerate(dic_forced_response_ssp585[m].keys()):        \n",
    "        dic_forced_response_ssp585[m][i] = mean_spatial_ensemble - np.nanmean(mean_spatial_ensemble)\n",
    "    # dic_forced_response_ssp585_tmp[m] = mean_spatial_ensemble - np.nanmean(mean_spatial_ensemble)"
   ]
  },
  {
   "cell_type": "code",
   "execution_count": 11,
   "id": "cc937384-cca8-49ee-86a4-ffd6de8959f3",
   "metadata": {},
   "outputs": [],
   "source": [
    "y_forced_response = {}\n",
    "x_predictor = {}\n",
    "\n",
    "for idx_m,m in enumerate(dic_processed_ssp585.keys()):\n",
    "    y_forced_response[m] = {}\n",
    "    x_predictor[m] = {}\n",
    "\n",
    "    y_forced_response[m] = dic_forced_response_ssp585_tmp[m]\n",
    "    \n",
    "    for idx_i, i in enumerate(dic_forced_response_ssp585[m].keys()):\n",
    "        \n",
    "        x_predictor[m][i] = dic_processed_ssp585[m][i]\n",
    "        x_predictor[m][i][:,nan_idx] = float('nan')"
   ]
  },
  {
   "cell_type": "code",
   "execution_count": 12,
   "id": "475d790e-7946-4792-97d3-3598cf1add35",
   "metadata": {},
   "outputs": [],
   "source": [
    "# # compute the variance\n",
    "# variance_processed_ssp585 = {}\n",
    "# std_processed_ssp585 = {}\n",
    "# for idx_m,m in enumerate(x_predictor.keys()):\n",
    "#     variance_processed_ssp585[m] = {}\n",
    "#     arr_tmp = np.zeros((len(x_predictor[m].keys()),33))\n",
    "    \n",
    "#     for idx_i, i in enumerate(list(x_predictor[m].keys())):\n",
    "#         arr_tmp[idx_i,:] = np.nanmean(x_predictor[m][i],axis=1)\n",
    "\n",
    "#     arr_tmp_values = np.zeros((len(x_predictor[m].keys()),33))\n",
    "#     for idx_i, i in enumerate(x_predictor[m].keys()):\n",
    "#         arr_tmp_values[idx_i,:] = (y_forced_response[m][i] - arr_tmp[idx_i,:])**2\n",
    "\n",
    "#     variance_processed_ssp585[m] = torch.mean(torch.nanmean(torch.from_numpy(arr_tmp_values),axis=0))"
   ]
  },
  {
   "cell_type": "code",
   "execution_count": 13,
   "id": "8d9d3a91-5eb1-49c0-8328-ed96e3351dcf",
   "metadata": {},
   "outputs": [],
   "source": [
    "y_forced_response_concatenate = {}\n",
    "x_predictor_concatenate = {}\n",
    "count_x = 0\n",
    "\n",
    "\n",
    "for idx_m,m in enumerate(dic_processed_ssp585.keys()):\n",
    "    y_forced_response_concatenate[m] = 0\n",
    "    x_predictor_concatenate[m] = 0\n",
    "\n",
    "    for idx_i, i in enumerate(dic_forced_response_ssp585[m].keys()):\n",
    "        count_x += len(dic_processed_ssp585[m].keys())*33\n",
    "        \n",
    "        if idx_i ==0:\n",
    "            y_forced_response_concatenate[m] = dic_forced_response_ssp585[m][i]\n",
    "            x_predictor_concatenate[m] = dic_processed_ssp585[m][i]\n",
    "        else:\n",
    "            y_forced_response_concatenate[m] = np.concatenate([y_forced_response_concatenate[m],dic_forced_response_ssp585[m][i]])\n",
    "            x_predictor_concatenate[m] = np.concatenate([x_predictor_concatenate[m], dic_processed_ssp585[m][i]],axis=0)  \n",
    "    x_predictor_concatenate[m][:,nan_idx] = float('nan')\n",
    "    y_forced_response_concatenate[m][:,nan_idx] = float('nan')"
   ]
  },
  {
   "cell_type": "code",
   "execution_count": 14,
   "id": "75941f2f-530f-4e92-b4c4-dfda81fee830",
   "metadata": {},
   "outputs": [],
   "source": [
    "# Data preprocessing\n",
    "x_train = {}\n",
    "y_train = {}\n",
    "\n",
    "for idx_m,m in enumerate(dic_reduced_ssp585.keys()):\n",
    "    x_train[m] = torch.nan_to_num(torch.from_numpy(x_predictor_concatenate[m])).to(torch.float64)\n",
    "    y_train[m] = torch.nan_to_num(torch.from_numpy(y_forced_response_concatenate[m])).to(torch.float64)"
   ]
  },
  {
   "cell_type": "code",
   "execution_count": 15,
   "id": "57a9fdd3-ae75-48ce-b668-c3aa674cf079",
   "metadata": {},
   "outputs": [],
   "source": [
    "# We want X in R^{grid x runs*time steps}\n",
    "x_tmp = torch.zeros(count_x, lat_size*lon_size)\n",
    "y_tmp = torch.zeros(count_x, lat_size*lon_size)\n",
    "\n",
    "m0 = 'KACE-1-0-G'\n",
    "x_test = torch.zeros(len(x_predictor[m0].keys())*33, lat_size*lon_size)\n",
    "y_test = torch.zeros(len(x_predictor[m0].keys())*33, lat_size*lon_size)\n",
    "\n",
    "count_tmp =0\n",
    "\n",
    "for idx_m,m in enumerate(dic_reduced_ssp585.keys()):\n",
    "    if m != 'KACE-1-0-G':\n",
    "\n",
    "        if count_tmp ==0:\n",
    "            x_tmp[:x_train[m].shape[0],:] = x_train[m]\n",
    "            y_tmp[:y_train[m].shape[0],:] = y_train[m]\n",
    "            count_tmp = x_train[m].shape[0]\n",
    "    \n",
    "        else:\n",
    "            x_tmp[count_tmp:count_tmp+x_train[m].shape[0],:] = x_train[m]\n",
    "            y_tmp[count_tmp:count_tmp+y_train[m].shape[0],:] = y_train[m]\n",
    "            count_tmp = x_train[m].shape[0]\n",
    "\n",
    "    else: \n",
    "        x_test = x_train[m]\n",
    "        y_test = y_train[m]"
   ]
  },
  {
   "cell_type": "code",
   "execution_count": 22,
   "id": "3eed62a8-2f78-44f3-a4af-0f650cd23ae9",
   "metadata": {},
   "outputs": [
    {
     "data": {
      "text/plain": [
       "2592"
      ]
     },
     "execution_count": 22,
     "metadata": {},
     "output_type": "execute_result"
    }
   ],
   "source": [
    "n_predictors"
   ]
  },
  {
   "cell_type": "code",
   "execution_count": 16,
   "id": "44573f8c-7448-4186-b554-a0626517c437",
   "metadata": {},
   "outputs": [
    {
     "name": "stdout",
     "output_type": "stream",
     "text": [
      "Epoch 10/200, Loss: 5025.8481\n",
      "Epoch 20/200, Loss: 4263.9224\n",
      "Epoch 30/200, Loss: 3615.4265\n",
      "Epoch 40/200, Loss: 3067.6111\n",
      "Epoch 50/200, Loss: 2605.6980\n",
      "Epoch 60/200, Loss: 2215.6899\n",
      "Epoch 70/200, Loss: 1885.1710\n",
      "Epoch 80/200, Loss: 1603.2621\n",
      "Epoch 90/200, Loss: 1360.6085\n",
      "Epoch 100/200, Loss: 1148.3893\n",
      "Epoch 110/200, Loss: 958.5219\n",
      "Epoch 120/200, Loss: 783.3788\n",
      "Epoch 130/200, Loss: 617.4946\n",
      "Epoch 140/200, Loss: 459.7259\n",
      "Epoch 150/200, Loss: 315.4789\n",
      "Epoch 160/200, Loss: 195.5301\n",
      "Epoch 170/200, Loss: 108.9090\n",
      "Epoch 180/200, Loss: 55.1825\n",
      "Epoch 190/200, Loss: 25.9703\n",
      "Epoch 200/200, Loss: 13.5168\n"
     ]
    }
   ],
   "source": [
    "n_samples = count_x\n",
    "n_predictors = lat_size*lon_size\n",
    "n_responses = lat_size*lon_size\n",
    "rank = 5\n",
    "\n",
    "lambda_ = 1.0\n",
    "\n",
    "# Initialize and train the model\n",
    "model = LowRankRegression(input_dim=n_predictors, output_dim=n_predictors, rank=rank)\n",
    "trained_model = train_model(model, x_tmp, y_tmp, lr=0.01, n_epochs=200)"
   ]
  },
  {
   "cell_type": "code",
   "execution_count": 28,
   "id": "b5726254-fde7-4cf4-a2c8-dc291e0f7609",
   "metadata": {},
   "outputs": [
    {
     "data": {
      "text/plain": [
       "torch.Size([284064, 2592])"
      ]
     },
     "execution_count": 28,
     "metadata": {},
     "output_type": "execute_result"
    }
   ],
   "source": [
    "x_tmp.shape"
   ]
  },
  {
   "cell_type": "code",
   "execution_count": 23,
   "id": "fb461e32-bc5b-463e-a140-6595108973f6",
   "metadata": {},
   "outputs": [],
   "source": [
    "W = model.U @ model.V.T  # Low-rank approximation of W"
   ]
  },
  {
   "cell_type": "code",
   "execution_count": 19,
   "id": "e6c8a5a0-1b6a-4976-8e0f-00ba03343062",
   "metadata": {},
   "outputs": [],
   "source": [
    "y_pred = x_test @ W.to(torch.float64)"
   ]
  },
  {
   "cell_type": "code",
   "execution_count": 20,
   "id": "4bdb65b4-7468-4ae7-b33d-ccecc35368d9",
   "metadata": {},
   "outputs": [
    {
     "name": "stdout",
     "output_type": "stream",
     "text": [
      "Norm tensor(4282.2622, dtype=torch.float64, grad_fn=<LinalgVectorNormBackward0>)\n"
     ]
    }
   ],
   "source": [
    "print(\"Norm\", torch.norm(y_test-y_pred,p='fro'))"
   ]
  },
  {
   "cell_type": "code",
   "execution_count": 21,
   "id": "54e13df6-16c8-45ad-9845-2c905899ea18",
   "metadata": {},
   "outputs": [
    {
     "ename": "AttributeError",
     "evalue": "'LowRankRegression' object has no attribute 'W'",
     "output_type": "error",
     "traceback": [
      "\u001b[0;31m---------------------------------------------------------------------------\u001b[0m",
      "\u001b[0;31mAttributeError\u001b[0m                            Traceback (most recent call last)",
      "Cell \u001b[0;32mIn[21], line 29\u001b[0m\n\u001b[1;32m      1\u001b[0m \u001b[38;5;66;03m# Define the loss function and optimizer\u001b[39;00m\n\u001b[1;32m      2\u001b[0m \u001b[38;5;66;03m# criterion = nn.MSELoss()\u001b[39;00m\n\u001b[1;32m      3\u001b[0m \u001b[38;5;66;03m# optimizer = optim.Adam([model.W,model.C], lr=0.1)\u001b[39;00m\n\u001b[0;32m   (...)\u001b[0m\n\u001b[1;32m     26\u001b[0m     \n\u001b[1;32m     27\u001b[0m \u001b[38;5;66;03m# print(\"Training complete.\")\u001b[39;00m\n\u001b[0;32m---> 29\u001b[0m M  \u001b[38;5;241m=\u001b[39m torch\u001b[38;5;241m.\u001b[39mmatmul(\u001b[43mmodel\u001b[49m\u001b[38;5;241;43m.\u001b[39;49m\u001b[43mW\u001b[49m\u001b[38;5;241m.\u001b[39mdetach(), model\u001b[38;5;241m.\u001b[39mC\u001b[38;5;241m.\u001b[39mdetach())\n\u001b[1;32m     30\u001b[0m MX \u001b[38;5;241m=\u001b[39m model\u001b[38;5;241m.\u001b[39mC[\u001b[38;5;241m1\u001b[39m,:]\u001b[38;5;241m.\u001b[39mdetach()\n",
      "File \u001b[0;32m~/.conda/envs/cope/lib/python3.9/site-packages/torch/nn/modules/module.py:1729\u001b[0m, in \u001b[0;36mModule.__getattr__\u001b[0;34m(self, name)\u001b[0m\n\u001b[1;32m   1727\u001b[0m     \u001b[38;5;28;01mif\u001b[39;00m name \u001b[38;5;129;01min\u001b[39;00m modules:\n\u001b[1;32m   1728\u001b[0m         \u001b[38;5;28;01mreturn\u001b[39;00m modules[name]\n\u001b[0;32m-> 1729\u001b[0m \u001b[38;5;28;01mraise\u001b[39;00m \u001b[38;5;167;01mAttributeError\u001b[39;00m(\u001b[38;5;124mf\u001b[39m\u001b[38;5;124m\"\u001b[39m\u001b[38;5;124m'\u001b[39m\u001b[38;5;132;01m{\u001b[39;00m\u001b[38;5;28mtype\u001b[39m(\u001b[38;5;28mself\u001b[39m)\u001b[38;5;241m.\u001b[39m\u001b[38;5;18m__name__\u001b[39m\u001b[38;5;132;01m}\u001b[39;00m\u001b[38;5;124m'\u001b[39m\u001b[38;5;124m object has no attribute \u001b[39m\u001b[38;5;124m'\u001b[39m\u001b[38;5;132;01m{\u001b[39;00mname\u001b[38;5;132;01m}\u001b[39;00m\u001b[38;5;124m'\u001b[39m\u001b[38;5;124m\"\u001b[39m)\n",
      "\u001b[0;31mAttributeError\u001b[0m: 'LowRankRegression' object has no attribute 'W'"
     ]
    }
   ],
   "source": [
    "# Define the loss function and optimizer\n",
    "# criterion = nn.MSELoss()\n",
    "# optimizer = optim.Adam([model.W,model.C], lr=0.1)\n",
    "    \n",
    "# # Training loop\n",
    "# n_epochs = 1000\n",
    "# for epoch in range(n_epochs):\n",
    "#     model.train()\n",
    "        \n",
    "#     # Forward pass\n",
    "#     y_pred = model(x_tmp)\n",
    "        \n",
    "#     # Compute loss\n",
    "#     # loss = criterion(y_pred,y_tmp) + lambda_*torch.norm(torch.matmul(model.W,model.C),p='fro')\n",
    "#     loss = torch.norm(y_pred-y_tmp, p='fro')**2 + lambda_*torch.norm(model.W,p='fro') + lambda_*torch.norm(model.W, p='fro')**2 \n",
    "    \n",
    "    \n",
    "#     # Backward pass and optimization\n",
    "#     optimizer.zero_grad()\n",
    "#     loss.backward()\n",
    "#     optimizer.step()\n",
    "        \n",
    "#     if (epoch+1) % 2 == 0:\n",
    "#         print(f'Epoch [{epoch+1}/{n_epochs}], Loss: {loss.item():.4f}')\n",
    "#         # print(torch.mean((y_pred - y_tmp)**2))\n",
    "    \n",
    "# print(\"Training complete.\")\n",
    "\n",
    "# M  = torch.matmul(model.W.detach(), model.C.detach())\n",
    "# MX = model.C[1,:].detach()"
   ]
  },
  {
   "cell_type": "code",
   "execution_count": 27,
   "id": "8fec56c5-e290-46a3-aeb1-a09bb3cc6ed1",
   "metadata": {},
   "outputs": [
    {
     "data": {
      "image/png": "[encoded data removed]",
      "text/plain": [
       "<Figure size 1600x1600 with 2 Axes>"
      ]
     },
     "metadata": {},
     "output_type": "display_data"
    }
   ],
   "source": [
    "# define beta to plot\n",
    "M_tmp = model.V[:,0].detach().clone()\n",
    "M_tmp[nan_idx] = float('nan')\n",
    "M_tmp = M_tmp.detach().numpy().reshape(lat_size,lon_size)\n",
    "\n",
    "# define robust beta\n",
    "# beta_robust_tmp = beta_robust.detach().clone()\n",
    "# beta_robust_tmp[nan_idx] = float('nan')\n",
    "# beta_robust_tmp = beta_robust_tmp.detach().numpy().reshape(lat.shape[0],lon.shape[0])\n",
    "\n",
    "fig0 = plt.figure(figsize=(16,16))           \n",
    "\n",
    "ax0 = fig0.add_subplot(2, 2, 1)        \n",
    "ax0.set_title(r'Reduced rank regression $WC$', size=7,pad=3.0)\n",
    "im0 = ax0.pcolormesh(lon_grid,lat_grid,M_tmp)\n",
    "plt.colorbar(im0, ax=ax0, shrink=0.3)\n",
    "ax0.set_xlabel(r'x', size=7)\n",
    "ax0.set_ylabel(r'y', size=7)\n",
    "\n",
    "# ax1 = fig0.add_subplot(2, 2, 2)        \n",
    "# ax1.set_title(r'Robust regression coefficient $\\beta_{\\mathrm{rob}}$', size=7,pad=3.0)\n",
    "# im1 = ax1.pcolormesh(lon_grid,lat_grid,beta_robust_tmp,vmin=-0.00,vmax = 0.001)\n",
    "# plt.colorbar(im1, ax=ax1, shrink=0.3)\n",
    "# ax1.set_xlabel(r'x', size=7)\n",
    "# ax1.set_ylabel(r'y', size=7)\n",
    "\n",
    "plt.show()"
   ]
  }
 ],
 "metadata": {
  "kernelspec": {
   "display_name": "Python 3 (ipykernel)",
   "language": "python",
   "name": "python3"
  },
  "language_info": {
   "codemirror_mode": {
    "name": "ipython",
    "version": 3
   },
   "file_extension": ".py",
   "mimetype": "text/x-python",
   "name": "python",
   "nbconvert_exporter": "python",
   "pygments_lexer": "ipython3",
   "version": "3.9.18"
  }
 },
 "nbformat": 4,
 "nbformat_minor": 5
}
