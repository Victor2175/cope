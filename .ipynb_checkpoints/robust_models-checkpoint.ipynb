{
 "cells": [
  {
   "cell_type": "markdown",
   "id": "0bd0c17d",
   "metadata": {},
   "source": [
    "## Load the data in pickle file "
   ]
  },
  {
   "cell_type": "code",
   "execution_count": 27,
   "id": "cbbbc114",
   "metadata": {},
   "outputs": [],
   "source": [
    "# Load the data\n",
    "import pickle\n",
    "import numpy as np\n",
    "import matplotlib.pyplot as plt\n",
    "import netCDF4 as netcdf\n",
    "\n",
    "with open('ssp585_time_series.pkl', 'rb') as f:\n",
    "    dic_ssp585 = pickle.load(f)"
   ]
  },
  {
   "cell_type": "code",
   "execution_count": 28,
   "id": "aae8d435",
   "metadata": {},
   "outputs": [
    {
     "name": "stdout",
     "output_type": "stream",
     "text": [
      "Files and directories in ' /net/atmos/data/cmip6-ng/tos/ann/g025 ' :\n"
     ]
    }
   ],
   "source": [
    "import os \n",
    "\n",
    "# Get the list of all files and directories\n",
    "path = \"/net/atmos/data/cmip6-ng/tos/ann/g025\"\n",
    "dir_list = os.listdir(path)\n",
    "\n",
    "print(\"Files and directories in '\", path, \"' :\")\n",
    "\n",
    "list_model = []\n",
    "list_forcing = []\n",
    "\n",
    "for idx, file in enumerate(dir_list):\n",
    "\n",
    "    file_split = file.split(\"_\")\n",
    "    \n",
    "    # extract model names\n",
    "    model_name = file_split[2]\n",
    "    forcing = file_split[3]\n",
    "    run_name = file_split[4]\n",
    "    \n",
    "    list_model.append(model_name)\n",
    "    list_forcing.append(forcing)\n",
    "    \n",
    "model_names = list(set(list_model))\n",
    "forcing_names = list(set(list_forcing))"
   ]
  },
  {
   "cell_type": "code",
   "execution_count": 30,
   "id": "bf99e084-630b-44a2-9f87-e28673c5bfea",
   "metadata": {},
   "outputs": [
    {
     "data": {
      "text/plain": [
       "72"
      ]
     },
     "execution_count": 30,
     "metadata": {},
     "output_type": "execute_result"
    }
   ],
   "source": [
    "len(model_names)"
   ]
  },
  {
   "cell_type": "markdown",
   "id": "4e5b406d-a1c4-4d04-a0d6-533cdb9d20c1",
   "metadata": {},
   "source": [
    "### Load the real observations"
   ]
  },
  {
   "cell_type": "code",
   "execution_count": 31,
   "id": "4d6d2d5b-22eb-425a-abe1-c7bb066a5b52",
   "metadata": {},
   "outputs": [],
   "source": [
    "import netCDF4 as netcdf\n",
    "\n",
    "# define the file\n",
    "file = '/net/h2o/climphys3/simondi/cope-analysis/data/erss/sst_annual_g050_mean_19812014_centered.nc'\n",
    "\n",
    "# read the dataset\n",
    "file2read = netcdf.Dataset(file,'r')\n",
    "\n",
    "# load longitude, latitude and sst monthly means\n",
    "lon = np.array(file2read.variables['lon'][:])\n",
    "lat = np.array(file2read.variables['lat'][:])\n",
    "sst = np.array(file2read.variables['sst'])\n",
    "\n",
    "# define grid\n",
    "lat_grid, lon_grid = np.meshgrid(lat, lon, indexing='ij')\n",
    "\n",
    "time_period = 33\n",
    "grid_lat_size = lat.shape[0]\n",
    "grid_lon_size = lon.shape[0]"
   ]
  },
  {
   "cell_type": "markdown",
   "id": "8d80c79c",
   "metadata": {},
   "source": [
    "# Preprocessing of the data: $(x_{i,t,m}^{p})_{i=1,\\ldots,I, t=1,\\ldots,T,m=1,\\ldots,M, p=1,\\ldots,d}$\n",
    "## $i$: ensemble member (run) index\n",
    "## $t$: time index\n",
    "## $m$: model index\n",
    "## $p$: grid cell index"
   ]
  },
  {
   "cell_type": "markdown",
   "id": "bccdb2dc-7360-45d3-acfc-0d6b7cd15e80",
   "metadata": {},
   "source": [
    "#### Keep the model with at least 3 ensemble memebers and downscale the data from latitude 144 -> 36 with local averaging (to match with ensemble methods"
   ]
  },
  {
   "cell_type": "code",
   "execution_count": 34,
   "id": "ea7e6d84",
   "metadata": {},
   "outputs": [
    {
     "name": "stdout",
     "output_type": "stream",
     "text": [
      "18\n",
      "5\n",
      "3\n",
      "5\n",
      "0\n",
      "6\n",
      "1\n",
      "2\n",
      "1\n",
      "1\n",
      "0\n",
      "1\n",
      "0\n",
      "0\n",
      "10\n",
      "0\n",
      "2\n",
      "2\n",
      "0\n",
      "0\n",
      "1\n",
      "2\n",
      "0\n",
      "0\n",
      "0\n",
      "1\n",
      "4\n",
      "0\n",
      "3\n",
      "8\n",
      "1\n",
      "0\n",
      "3\n",
      "0\n",
      "0\n",
      "10\n",
      "5\n",
      "4\n",
      "1\n",
      "1\n",
      "50\n",
      "0\n",
      "0\n",
      "0\n",
      "5\n",
      "1\n",
      "1\n",
      "4\n",
      "0\n",
      "9\n",
      "6\n",
      "3\n",
      "0\n",
      "1\n",
      "40\n",
      "0\n",
      "7\n",
      "0\n",
      "1\n",
      "50\n",
      "1\n",
      "10\n",
      "1\n",
      "0\n",
      "1\n",
      "30\n",
      "1\n",
      "3\n",
      "1\n",
      "0\n",
      "5\n"
     ]
    }
   ],
   "source": [
    "import skimage\n",
    "\n",
    "# first filter out the models that contain less than 5 ensemble members \n",
    "dic_reduced_ssp585 = {}\n",
    "\n",
    "count_m = 0\n",
    "\n",
    "for idx_m, m in enumerate(list(dic_ssp585.keys())):\n",
    "    # print(len(dic_ssp585[m].keys()))\n",
    "    if (len(dic_ssp585[m].keys()) > 4) and (count_m < 10):\n",
    "        dic_reduced_ssp585[m] = dic_ssp585[m].copy()\n",
    "        for idx_i, i in enumerate(dic_ssp585[m].keys()):\n",
    "            dic_reduced_ssp585[m][i] = skimage.transform.downscale_local_mean(dic_reduced_ssp585[m][i],(1,2,2))\n",
    "            lat_size = dic_reduced_ssp585[m][i][0,:,:].shape[0]\n",
    "            lon_size = dic_reduced_ssp585[m][i][0,:,:].shape[1]\n",
    "        count_m +=1"
   ]
  },
  {
   "cell_type": "code",
   "execution_count": 33,
   "id": "edb28e65-ee8d-4ba8-bc17-f99302d03b8d",
   "metadata": {},
   "outputs": [
    {
     "data": {
      "text/plain": [
       "10"
      ]
     },
     "execution_count": 33,
     "metadata": {},
     "output_type": "execute_result"
    }
   ],
   "source": [
    "len(dic_reduced_ssp585.keys())"
   ]
  },
  {
   "cell_type": "markdown",
   "id": "1f183ac2-56d0-4ad5-97ed-92c79280c6d6",
   "metadata": {},
   "source": [
    "# Store Nan indices by taking maximum of nan coverage among the anomalies "
   ]
  },
  {
   "cell_type": "code",
   "execution_count": 35,
   "id": "98cb97ae-b22d-4415-99de-49037f44693c",
   "metadata": {},
   "outputs": [],
   "source": [
    "nan_idx = []\n",
    "for idx_m,m in enumerate(dic_reduced_ssp585.keys()):\n",
    "    for idx_i,i in enumerate(dic_reduced_ssp585[m].keys()):    \n",
    "        # for t in enumerate(range(time_period)[:2]):\n",
    "            # print(np.where(np.isnan(dic_reduced_ssp585[m][i][t,:,:].ravel())==True))\n",
    "        nan_idx_tmp = list(np.where(np.isnan(dic_reduced_ssp585[m][i][0,:,:].ravel())==True)[0])\n",
    "        # nan_idx_tmp_tt = list(np.where(np.isnan(dic_reduced_ssp585[m][i][1,:,:].ravel())==True)[0])\n",
    "        \n",
    "        nan_idx = list(set(nan_idx) | set(nan_idx_tmp))\n",
    "\n",
    "notnan_idx = list(set(list(range(lon_size*lat_size))) - set(nan_idx))"
   ]
  },
  {
   "cell_type": "markdown",
   "id": "a03b8a2b",
   "metadata": {},
   "source": [
    "### 1) Compute anomalies: $\\displaystyle \\overline{x}_{i,t,m}^p = x_{i,t,m}^p - \\frac{1}{t_{\\mathrm{ref}}^f - t_{\\mathrm{ref}}^s} \\sum_{t= t_{\\mathrm{ref}}^s}^{t_{\\mathrm{ref}}^f} \\sum_{i=1}^I x_{i,t,m}^p$"
   ]
  },
  {
   "cell_type": "code",
   "execution_count": 36,
   "id": "0cbf3f5b",
   "metadata": {},
   "outputs": [
    {
     "name": "stderr",
     "output_type": "stream",
     "text": [
      "/tmp/ipykernel_14329/2788081108.py:17: RuntimeWarning: Mean of empty slice\n",
      "  mean_ref_ensemble = np.nanmean(y_tmp[idx_i,:,:],axis=0)/ len(dic_reduced_ssp585[m].keys())\n",
      "/tmp/ipykernel_14329/2788081108.py:19: RuntimeWarning: Mean of empty slice\n",
      "  mean_ref_ensemble += np.nanmean(y_tmp[idx_i,:,:],axis=0)/ len(dic_reduced_ssp585[m].keys())\n"
     ]
    }
   ],
   "source": [
    "# second, for each model we compute the anomalies \n",
    "dic_processed_ssp585 = {}\n",
    "\n",
    "import numpy as np\n",
    "\n",
    "for idx_m,m in enumerate(dic_reduced_ssp585.keys()):\n",
    "    dic_processed_ssp585[m] = dic_reduced_ssp585[m].copy()\n",
    "    \n",
    "    mean_ref_ensemble = 0\n",
    "    y_tmp = np.zeros((len(dic_reduced_ssp585[m].keys()),time_period, lat_size*lon_size))\n",
    "    \n",
    "    for idx_i, i in enumerate(dic_reduced_ssp585[m].keys()):\n",
    "        y_tmp[idx_i,:,:] = dic_reduced_ssp585[m][i][131:164,:,:].copy().reshape(time_period, lat_size*lon_size)\n",
    "        y_tmp[idx_i,:,nan_idx] = float('nan')\n",
    "           \n",
    "        if idx_i == 0:\n",
    "            mean_ref_ensemble = np.nanmean(y_tmp[idx_i,:,:],axis=0)/ len(dic_reduced_ssp585[m].keys())\n",
    "        else:\n",
    "            mean_ref_ensemble += np.nanmean(y_tmp[idx_i,:,:],axis=0)/ len(dic_reduced_ssp585[m].keys())\n",
    "\n",
    "    for idx_i, i in enumerate(dic_processed_ssp585[m].keys()):\n",
    "        dic_processed_ssp585[m][i] = y_tmp[idx_i,:,:] - mean_ref_ensemble"
   ]
  },
  {
   "cell_type": "markdown",
   "id": "78478143-bb21-4a79-b7f5-abf0a1cba781",
   "metadata": {},
   "source": [
    "### 2) Compute the forced response: \n",
    "#### - Mean over space: $\\displaystyle y_{i,t,m} = \\frac{1}{P} \\sum_{p=1}^P x_{i,t,m}^p$\n",
    "#### - Mean over ensemble members: $\\displaystyle \\overline{y}_{t,m} = \\frac{1}{I} \\sum_{i=1}^I y_{i,t,m}$\n",
    "#### - Set the mean to all the ensemble member forced responses: $y_{i,t,m} \\colon= \\overline{y}_{t,m}$\n",
    "#### - Centering with respect to a given reference period: $\\displaystyle y_{i,t,m} = y_{i,t,m} - \\frac{1}{t_{\\mathrm{ref}}^f - t_{\\mathrm{ref}}^s} \\sum_{t= t_{\\mathrm{ref}}^s}^{t_{\\mathrm{ref}}^f} \\overline{y}_{t,m}$"
   ]
  },
  {
   "cell_type": "code",
   "execution_count": 37,
   "id": "91564186",
   "metadata": {},
   "outputs": [],
   "source": [
    "# compute the forced response\n",
    "dic_forced_response_ssp585 = dict({})\n",
    "\n",
    "for idx_m,m in enumerate(dic_reduced_ssp585.keys()):\n",
    "    dic_forced_response_ssp585[m] = dic_reduced_ssp585[m].copy()\n",
    "\n",
    "    for idx_i, i in enumerate(dic_forced_response_ssp585[m].keys()):\n",
    "        \n",
    "        y_tmp = dic_reduced_ssp585[m][i][131:164,:,:].copy().reshape(time_period, lat_size*lon_size)\n",
    "        y_tmp[:,nan_idx] = float('nan')\n",
    "\n",
    "        if idx_i == 0:\n",
    "            mean_spatial_ensemble = np.nanmean(y_tmp,axis=1)/ len(dic_forced_response_ssp585[m].keys())\n",
    "        else:\n",
    "            mean_spatial_ensemble += np.nanmean(y_tmp,axis=1)/ len(dic_forced_response_ssp585[m].keys())\n",
    "\n",
    "    for idx_i, i in enumerate(dic_forced_response_ssp585[m].keys()):        \n",
    "        dic_forced_response_ssp585[m][i] = mean_spatial_ensemble - np.nanmean(mean_spatial_ensemble)"
   ]
  },
  {
   "cell_type": "markdown",
   "id": "022aa43e",
   "metadata": {},
   "source": [
    "## Now we can use the data to run some simple regression models"
   ]
  },
  {
   "cell_type": "code",
   "execution_count": 38,
   "id": "21ec331b",
   "metadata": {},
   "outputs": [],
   "source": [
    "y_forced_response = {}\n",
    "x_predictor = {}\n",
    "\n",
    "for idx_m,m in enumerate(dic_processed_ssp585.keys()):\n",
    "    y_forced_response[m] = {}\n",
    "    x_predictor[m] = {}\n",
    "\n",
    "    \n",
    "    for idx_i, i in enumerate(dic_forced_response_ssp585[m].keys()):\n",
    "        \n",
    "        y_forced_response[m][i] = dic_forced_response_ssp585[m][i]\n",
    "        x_predictor[m][i] = dic_processed_ssp585[m][i]\n",
    "        x_predictor[m][i][:,nan_idx] = float('nan')"
   ]
  },
  {
   "cell_type": "code",
   "execution_count": 39,
   "id": "0991c900-c1c0-4002-addd-32d7cc8e56d9",
   "metadata": {},
   "outputs": [],
   "source": [
    "y_forced_response_concatenate = {}\n",
    "x_predictor_concatenate = {}\n",
    "count_x = 0\n",
    "\n",
    "\n",
    "for idx_m,m in enumerate(dic_processed_ssp585.keys()):\n",
    "    y_forced_response_concatenate[m] = 0\n",
    "    x_predictor_concatenate[m] = 0\n",
    "\n",
    "    for idx_i, i in enumerate(dic_forced_response_ssp585[m].keys()):\n",
    "        count_x += len(dic_processed_ssp585[m].keys())*33\n",
    "        \n",
    "        if idx_i ==0:\n",
    "            y_forced_response_concatenate[m] = dic_forced_response_ssp585[m][i]\n",
    "            x_predictor_concatenate[m] = dic_processed_ssp585[m][i]\n",
    "        else:\n",
    "            y_forced_response_concatenate[m] = np.concatenate([y_forced_response_concatenate[m],dic_forced_response_ssp585[m][i]])\n",
    "            x_predictor_concatenate[m] = np.concatenate([x_predictor_concatenate[m], dic_processed_ssp585[m][i]],axis=0)  \n",
    "    x_predictor_concatenate[m][:,nan_idx] = float('nan')"
   ]
  },
  {
   "cell_type": "code",
   "execution_count": 40,
   "id": "5ac245c4-3b6c-4f39-9253-e4786a3688f4",
   "metadata": {},
   "outputs": [],
   "source": [
    "import torch \n",
    "\n",
    "# compute the variance\n",
    "variance_processed_ssp585 = {}\n",
    "variance_processed_ssp585_mean = {}\n",
    "std_processed_ssp585 = {}\n",
    "\n",
    "for idx_m,m in enumerate(x_predictor.keys()):\n",
    "    variance_processed_ssp585[m] = {}\n",
    "    arr_tmp = np.zeros((len(x_predictor[m].keys()),33))\n",
    "    \n",
    "    for idx_i, i in enumerate(list(x_predictor[m].keys())):\n",
    "        arr_tmp[idx_i,:] = np.nanmean(x_predictor[m][i],axis=1)\n",
    "\n",
    "    arr_tmp_values = np.zeros((len(x_predictor[m].keys()),33))\n",
    "    for idx_i, i in enumerate(x_predictor[m].keys()):\n",
    "        arr_tmp_values[idx_i,:] = (y_forced_response[m][i] - arr_tmp[idx_i,:])**2\n",
    "\n",
    "    variance_processed_ssp585_mean[m] = torch.mean(torch.nanmean(torch.from_numpy(arr_tmp_values),axis=0))\n",
    "    variance_processed_ssp585[m] = torch.nanmean(torch.from_numpy(arr_tmp_values),axis=0)"
   ]
  },
  {
   "cell_type": "markdown",
   "id": "9c8d1606-bf15-4e72-8f6a-752051c7ea78",
   "metadata": {},
   "source": [
    "### Define optimizaton problem with Pytorch"
   ]
  },
  {
   "cell_type": "code",
   "execution_count": 41,
   "id": "a4af30e7-c7e1-4b52-9653-9cb02d1659ee",
   "metadata": {},
   "outputs": [],
   "source": [
    "# Data preprocessing\n",
    "x_train = {}\n",
    "y_train = {}\n",
    "\n",
    "for idx_m,m in enumerate(dic_reduced_ssp585.keys()):\n",
    "    x_train[m] = {}\n",
    "    y_train[m] = {}\n",
    "    for idx_i, i in enumerate(dic_processed_ssp585[m].keys()):\n",
    "        x_train[m][i] = torch.nan_to_num(torch.from_numpy(x_predictor[m][i])).to(torch.float64)\n",
    "        y_train[m][i] = torch.from_numpy(y_forced_response[m][i]).to(torch.float64)"
   ]
  },
  {
   "cell_type": "code",
   "execution_count": 42,
   "id": "cabcda9f-b636-4cb5-a837-23a689c1562e",
   "metadata": {},
   "outputs": [],
   "source": [
    "def ridge_estimator(model_out,x,y,vars,lambda_):\n",
    "    \"\"\"\n",
    "    Compute the ridge estimator given gammas.\n",
    "    \"\"\"\n",
    "    idx_start = 0\n",
    "    for idx_m,m in enumerate(list(x.keys())):\n",
    "        if m!= model_out:\n",
    "            if idx_start==0:\n",
    "                X_tmp = x[m]\n",
    "                y_tmp = y[m]\n",
    "                D = (1/vars[m])*torch.eye(x[m].shape[0])\n",
    "                idx_start +=1\n",
    "            else:\n",
    "                X_tmp = torch.cat((X_tmp,x[m]),0)\n",
    "                y_tmp = torch.cat((y_tmp,y[m]),0)\n",
    "                D_tmp = ((1/vars[m]) * torch.eye(x[m].shape[0])).to(torch.float64)\n",
    "                D = torch.block_diag(D, D_tmp).to(torch.float64)\n",
    "\n",
    "    A = torch.matmul(torch.matmul(X_tmp.T, D),X_tmp) + lambda_ * torch.eye(X_tmp.shape[1])\n",
    "    b = torch.matmul(torch.matmul(X_tmp.T,D),y_tmp)\n",
    "\n",
    "    print(D)\n",
    "\n",
    "    beta = torch.linalg.solve(A,b)\n",
    "\n",
    "    #compute the loss \n",
    "    loss = torch.matmul(torch.matmul((y_tmp - torch.matmul(X_tmp,beta)).T,D), y_tmp - torch.matmul(X_tmp,beta)) + lambda_* torch.norm(beta,p=2)**2\n",
    "    \n",
    "    return beta, loss"
   ]
  },
  {
   "cell_type": "code",
   "execution_count": null,
   "id": "52a7b300-f581-429d-81a2-abd4e65c352e",
   "metadata": {},
   "outputs": [],
   "source": []
  },
  {
   "cell_type": "code",
   "execution_count": 90,
   "id": "cf18582e-dc14-4f89-abf4-07ace7191367",
   "metadata": {},
   "outputs": [],
   "source": [
    "def train_ridge_regression(x,y,vars,lon_size,lat_size,models,lambda_,nbEpochs=100,verbose=True):\n",
    "    \"\"\"\n",
    "    Given a model m, learn parameter β^m such that β^m = argmin_{β}(||y_m - X_m^T β||^2) ).\n",
    "\n",
    "    Args:\n",
    "        - x, y: training set and training target \n",
    "        - lon_size, lat_size: longitude and latitude grid size (Int)\n",
    "        - lambda_: regularizer coefficient (float)\n",
    "        - nbepochs: number of optimization steps (Int)\n",
    "        - verbose: display logs (bool)\n",
    "    \"\"\"\n",
    "\n",
    "    # define variable beta\n",
    "    beta = torch.zeros(lat_size*lon_size).to(torch.float64)\n",
    "    beta.requires_grad_(True)  \n",
    "                          \n",
    "    # define optimizer\n",
    "    optimizer = torch.optim.Adam([beta],lr=1e-4)\n",
    "\n",
    "    # stopping criterion\n",
    "    criteria = torch.tensor(0.0)\n",
    "    criteria_tmp = torch.tensor(1.0) \n",
    "    epoch = 0\n",
    "\n",
    "    training_loss = torch.zeros(nbEpochs)\n",
    "            \n",
    "    # --- optimization loop ---                \n",
    "    while (torch.abs(criteria - criteria_tmp) >= 1e-6) & (epoch < nbEpochs):\n",
    "\n",
    "        # update criteria\n",
    "        criteria_tmp = criteria.clone()\n",
    "        \n",
    "                      \n",
    "        optimizer.zero_grad()\n",
    "        ############### Define loss function ##############\n",
    "                    \n",
    "        # first term: ||Y - X - Rb ||\n",
    "        res = torch.zeros(len(models),33)\n",
    "\n",
    "        \n",
    "        for idx_m, m in enumerate(models):\n",
    "\n",
    "            for idx_i, i in enumerate(x[m].keys()):\n",
    "               \n",
    "                \n",
    "                res[idx_m,:] += (y[m][i] - torch.matmul(x[m][i][:,notnan_idx],beta[notnan_idx]))**2/vars[m]\n",
    "            res[idx_m,:] = res[idx_m,:]/len(x[m].keys())\n",
    "\n",
    "        obj = torch.mean(res)\n",
    "        obj += lambda_*torch.norm(beta,p=2)**2\n",
    "                    \n",
    "        #define loss function\n",
    "        loss = obj\n",
    "\n",
    "        if epoch < nbEpochs:\n",
    "            training_loss[epoch] = loss.detach().item()\n",
    "                    \n",
    "        # Use autograd to compute the backward pass. \n",
    "        loss.backward(retain_graph=True)               \n",
    "        \n",
    "        # take a step into optimal direction of parameters minimizing loss\n",
    "        optimizer.step()       \n",
    "        \n",
    "        if(verbose==True):\n",
    "            if(epoch % 10 == 0):\n",
    "                print('Epoch ', epoch, \n",
    "                    ', loss=', loss.detach().item()\n",
    "                    )\n",
    "\n",
    "        criteria = loss\n",
    "        epoch +=1\n",
    "        \n",
    "\n",
    "    plt.figure()\n",
    "    plt.plot(range(nbEpochs)[:epoch],training_loss[:epoch])\n",
    "    plt.title('Training loss')\n",
    "    plt.ylabel('Loss')\n",
    "    plt.xlabel('iterations')\n",
    "    plt.show()\n",
    "    return beta.detach().clone()"
   ]
  },
  {
   "cell_type": "code",
   "execution_count": 91,
   "id": "9e104839-284e-4bd9-bdbc-6f1372cc6055",
   "metadata": {},
   "outputs": [],
   "source": [
    "def train_robust_model(x,y,vars,lon_size,lat_size,models,lambda_,mu_=1.0,nbEpochs=100,verbose=True):\n",
    "    \"\"\"\n",
    "    Learn parameter β such that β = argmin( log Σ_m exp(||y_m - X_m^T β||^2) ).\n",
    "\n",
    "    Args:\n",
    "        - x,y : location, observation \n",
    "        - lon_size, lat_size: longitude and latitude grid size (Int)\n",
    "        - models: (sub)list of models (list)\n",
    "        - mu_: softmax coefficient (float)\n",
    "        - nbepochs: number of optimization steps (Int)\n",
    "        - verbose: display logs (bool)\n",
    "    \"\"\"\n",
    "\n",
    "    # define variable beta\n",
    "    # beta = torch.ones(lon_size*lat_size).to(torch.float64)\n",
    "    beta = torch.zeros(lon_size*lat_size).to(torch.float64)\n",
    "    beta.requires_grad_(True)  \n",
    "\n",
    "    # define optimizer\n",
    "    optimizer = torch.optim.Adam([beta],lr=1e-4)\n",
    "\n",
    "    # stopping criterion\n",
    "    criteria = torch.tensor(0.0)\n",
    "    criteria_tmp = torch.tensor(1.0) \n",
    "    epoch = 0\n",
    "    training_loss = torch.zeros(nbEpochs)\n",
    "            \n",
    "    # --- optimization loop ---                \n",
    "    while (torch.abs(criteria - criteria_tmp) >= 1e-6) & (epoch < nbEpochs):\n",
    "    # while (epoch < nbEpochs):\n",
    "\n",
    "        # update criteria\n",
    "        criteria_tmp = criteria.clone()\n",
    "                      \n",
    "        optimizer.zero_grad()\n",
    "        ############### Define loss function ##############\n",
    "        res = torch.zeros(len(models),33)\n",
    "\n",
    "        for idx_m, m in enumerate(models):            \n",
    "            for idx_i, i in enumerate(x[m].keys()):\n",
    "                res[idx_m,:] += (y[m][i] - torch.matmul(x[m][i][:,notnan_idx],beta[notnan_idx]))**2/vars[m]\n",
    "            res[idx_m,:] = res[idx_m,:]/(len(x[m].keys()))\n",
    "\n",
    "        obj = mu_*torch.logsumexp((1/mu_)* torch.mean(res,axis=1),0)\n",
    "        obj += lambda_*torch.norm(beta,p=2)**2\n",
    "                    \n",
    "        #define loss function\n",
    "        loss = obj\n",
    "\n",
    "        # set the training loss\n",
    "        training_loss[epoch] = loss.detach().item()\n",
    "                    \n",
    "        # Use autograd to compute the backward pass. \n",
    "        loss.backward()               \n",
    "        \n",
    "        # take a step into optimal direction of parameters minimizing loss\n",
    "        optimizer.step()              \n",
    "\n",
    "        if(verbose==True):\n",
    "            if(epoch % 10 == 0):\n",
    "                print('Epoch ', epoch, \n",
    "                        ', loss=', training_loss[epoch].detach().item()\n",
    "                        )\n",
    "        criteria = loss\n",
    "        epoch +=1\n",
    "    \n",
    "    plt.figure()\n",
    "    plt.plot(range(nbEpochs),training_loss)\n",
    "    plt.title('Training loss')\n",
    "    plt.ylabel('Loss')\n",
    "    plt.xlabel('iterations')\n",
    "    plt.show()\n",
    "\n",
    "    # compute the alphas of the robust model\n",
    "    M = len(x.keys())\n",
    "    alpha = torch.zeros(M)\n",
    "    res = torch.zeros(M,33)\n",
    "    \n",
    "    # compute the training loss for each model\n",
    "    model_loss = torch.zeros(M)\n",
    "    \n",
    "    for idx_m,m in enumerate(x.keys()):\n",
    "        for idx_i, i in enumerate(x[m].keys()):\n",
    "            res[idx_m,:] += (y[m][i] - torch.matmul(x[m][i],beta))**2/vars[m]\n",
    "            \n",
    "        res[idx_m,:] = res[idx_m,:]/len(x[m].keys())\n",
    "        alpha[idx_m] = (1/mu_)*torch.mean(res[idx_m,:],axis=0)\n",
    "        model_loss[idx_m] = torch.mean(res[idx_m,:])\n",
    "    \n",
    "    alpha = torch.nn.functional.softmax(alpha)\n",
    "    \n",
    "    return beta, alpha, model_loss"
   ]
  },
  {
   "cell_type": "code",
   "execution_count": 76,
   "id": "45bfd0f3-04d5-4808-8f98-f82ca0618000",
   "metadata": {},
   "outputs": [],
   "source": [
    "# Data preprocessing\n",
    "x_train_concatenate = {}\n",
    "y_train_concatenate = {}\n",
    "\n",
    "for idx_m,m in enumerate(dic_reduced_ssp585.keys()):\n",
    "    x_train_concatenate[m] = torch.nan_to_num(torch.from_numpy(x_predictor_concatenate[m])).to(torch.float64)\n",
    "    y_train_concatenate[m] = torch.from_numpy(y_forced_response_concatenate[m]).to(torch.float64)\n",
    "    "
   ]
  },
  {
   "cell_type": "code",
   "execution_count": 77,
   "id": "0ffa6175-215f-4c26-abcd-52582d997539",
   "metadata": {},
   "outputs": [],
   "source": [
    "#filter out the wrong model !!!!!!\n",
    "# worst_model = 'FIO-ESM-2-0'\n",
    "\n",
    "# x_train.pop(worst_model)\n",
    "# x_predictor.pop(worst_model)\n",
    "# y_train.pop(worst_model)\n",
    "# y_forced_response.pop(worst_model)\n",
    "\n",
    "# x_train_concatenate.pop(worst_model)\n",
    "# y_train_concatenate.pop(worst_model)\n",
    "\n",
    "# print('')"
   ]
  },
  {
   "cell_type": "code",
   "execution_count": 78,
   "id": "ec9cf83b-ad99-4410-b365-0ad0a6b3ff6c",
   "metadata": {
    "scrolled": true
   },
   "outputs": [],
   "source": [
    "# selected_models = list(x_predictor.keys())\n",
    "# selected_models.remove('CanESM5-1')\n",
    "\n",
    "# mu_ = 0.01\n",
    "# lambda_ = 1.0\n",
    "\n",
    "# beta_robust, alpha_robust, model_loss = train_robust_model(x_train,y_train,variance_processed_ssp585,\\\n",
    "#                                       lat_size,lon_size,\\\n",
    "#                                       selected_models,\\\n",
    "#                                       lambda_,mu_,nbEpochs=200,verbose=True)\n",
    "\n",
    "\n",
    "# beta_ridge = train_ridge_regression(x_train,y_train,variance_processed_ssp585,\\\n",
    "#                                     lat_size,lon_size,\\\n",
    "#                                     selected_models,\\\n",
    "#                                     lambda_,nbEpochs=100,verbose=True)"
   ]
  },
  {
   "cell_type": "code",
   "execution_count": 79,
   "id": "9ab8dd30-561c-4d4a-b718-42c52220f6b5",
   "metadata": {},
   "outputs": [],
   "source": [
    "# # define beta to plot\n",
    "# beta_ridge_tmp = beta_ridge.detach().clone()\n",
    "# beta_ridge_tmp[nan_idx] = float('nan')\n",
    "# beta_ridge_tmp = beta_ridge_tmp.detach().numpy().reshape(lat_size,lon.shape[0])\n",
    "\n",
    "# # define robust beta\n",
    "# beta_robust_tmp = beta_robust.detach().clone()\n",
    "# beta_robust_tmp[nan_idx] = float('nan')\n",
    "# beta_robust_tmp = beta_robust_tmp.detach().numpy().reshape(lat.shape[0],lon.shape[0])\n",
    "\n",
    "# fig0 = plt.figure(figsize=(16,16))           \n",
    "\n",
    "# ax0 = fig0.add_subplot(2, 2, 1)        \n",
    "# ax0.set_title(r'Ridge regression coefficient $\\beta_{\\mathrm{reg}}$', size=7,pad=3.0)\n",
    "# im0 = ax0.pcolormesh(lon_grid,lat_grid,beta_ridge_tmp,vmin=-0.00,vmax = 0.005)\n",
    "# plt.colorbar(im0, ax=ax0, shrink=0.3)\n",
    "# ax0.set_xlabel(r'x', size=7)\n",
    "# ax0.set_ylabel(r'y', size=7)\n",
    "\n",
    "# ax1 = fig0.add_subplot(2, 2, 2)        \n",
    "# ax1.set_title(r'Robust regression coefficient $\\beta_{\\mathrm{rob}}$', size=7,pad=3.0)\n",
    "# im1 = ax1.pcolormesh(lon_grid,lat_grid,beta_robust_tmp,vmin=-0.00,vmax = 0.005)\n",
    "# plt.colorbar(im1, ax=ax1, shrink=0.3)\n",
    "# ax1.set_xlabel(r'x', size=7)\n",
    "# ax1.set_ylabel(r'y', size=7)\n",
    "\n",
    "# plt.show()"
   ]
  },
  {
   "cell_type": "markdown",
   "id": "d0e898b4-bbf3-45f9-ba5a-8db879ead383",
   "metadata": {},
   "source": [
    "## Leave-one-out procedure"
   ]
  },
  {
   "cell_type": "code",
   "execution_count": 92,
   "id": "a64ff8b7-debd-4bff-a75f-5f2ee6d85c1e",
   "metadata": {},
   "outputs": [],
   "source": [
    "def compute_weights(x,y,vars,beta,lon_size,lat_size,models,mu_):\n",
    "    \"\"\"\n",
    "    Plot and return the weights of the robust model.\n",
    "    \"\"\"\n",
    "    M = len(list(dic_reduced_ssp585.keys()))\n",
    "    alpha = torch.zeros(M)\n",
    "    res = torch.zeros(M,33)\n",
    "    \n",
    "    for idx_m,m in enumerate(x.keys()):\n",
    "        \n",
    "        for idx_i, i in enumerate(x[m].keys()):\n",
    "            res[idx_m,:] += (y[m][i] - torch.matmul(x[m][i],beta))**2/vars[m]\n",
    "        res[idx_m,:] = res[idx_m,:]/len(x[m].keys())\n",
    "        alpha[idx_m] = (1/mu_)*torch.mean(res[idx_m,:],axis=0)\n",
    "\n",
    "    alpha = torch.nn.functional.softmax(alpha)\n",
    "    \n",
    "    # plot the model contributions\n",
    "    weights = {m: alpha[idx_m].item() for idx_m,m in enumerate(models)}\n",
    "\n",
    "    return weights"
   ]
  },
  {
   "cell_type": "code",
   "execution_count": 93,
   "id": "294f2d0c-6673-4d24-bec1-2897672406cb",
   "metadata": {},
   "outputs": [],
   "source": [
    "def leave_one_out(model_out,x,y,vars,lon_size,lat_size,lambda_,method='robust',mu_=1.0,nbEpochs=500,verbose=True):\n",
    "\n",
    "    # Data preprocessing\n",
    "    x_train = {}\n",
    "    y_train = {}\n",
    "\n",
    "    x_test = {}\n",
    "    y_test = {}\n",
    "    selected_models = []\n",
    "\n",
    "    for idx_m,m in enumerate(x.keys()):\n",
    "        if m != model_out:\n",
    "\n",
    "            x_train[m] = {}\n",
    "            y_train[m] = {}\n",
    "            \n",
    "            # selected models \n",
    "            selected_models.append(m)\n",
    "            \n",
    "            for idx_i, i in enumerate(x[m].keys()):\n",
    "                \n",
    "                \n",
    "                x_train[m][i] = torch.from_numpy(np.nan_to_num(x[m][i]).reshape(x[m][i].shape[0],lon_size*lat_size)).to(torch.float64)\n",
    "                y_train[m][i] = torch.from_numpy(y[m][i]).to(torch.float64)\n",
    "        \n",
    "        else:\n",
    "            for idx_i, i in enumerate(x[model_out].keys()):\n",
    "                x_test[i] = np.nan_to_num(x[model_out][i]).reshape(x[model_out][i].shape[0],lon_size*lat_size)            \n",
    "                y_test[i] = y[model_out][i]\n",
    "\n",
    "    # if method = robust, then we train the robust\n",
    "    if method == 'robust':\n",
    "        beta, alpha, model_loss = train_robust_model(x_train,y_train,vars,\\\n",
    "                                    lon_size,lat_size,\\\n",
    "                                    selected_models,\\\n",
    "                                    lambda_,mu_,nbEpochs,verbose)\n",
    "\n",
    "    else:\n",
    "        beta = train_ridge_regression(x_train,y_train,vars,\\\n",
    "                                        lon_size,lat_size,\\\n",
    "                                        selected_models,\\\n",
    "                                        lambda_,nbEpochs,verbose)\n",
    "\n",
    "    # test errors\n",
    "    y_pred={}\n",
    "    for idx_i, i in enumerate(x[model_out].keys()):\n",
    "        y_pred[i] = np.dot(x_test[i],beta.detach().numpy())\n",
    "\n",
    "    # get training errors\n",
    "    rmse_training = {m: 0 for idx_m, m in enumerate(x.keys()) if m != model_out}\n",
    "    for idx_m, m in enumerate(x.keys()):\n",
    "        if m != model_out:\n",
    "            for idx_i,i in enumerate(x[m].keys()):\n",
    "                if idx_i == 0:\n",
    "                    rmse_training[m] = (y[m][i] - np.dot(x_train[m][i],beta.detach().numpy()))**2/vars[m]\n",
    "                else:\n",
    "                    rmse_training[m] += (y[m][i] - np.dot(x_train[m][i],beta.detach().numpy()))**2/vars[m]\n",
    "                \n",
    "            rmse_training[m] = torch.mean(rmse_training[m])/len(list(x[m].keys()))\n",
    "            \n",
    "    if method == 'robust':\n",
    "        weights = compute_weights(x_train,y_train,vars,beta,lon_size,lat_size,selected_models,mu_)\n",
    "    else:\n",
    "        weights = {m: (1/len(x.keys())) for m in x.keys()}\n",
    "\n",
    "    return beta, y_pred, y_test, weights, rmse_training"
   ]
  },
  {
   "cell_type": "code",
   "execution_count": 94,
   "id": "cb051f34-3b99-4a83-81ac-3d55b0b16432",
   "metadata": {
    "scrolled": true
   },
   "outputs": [
    {
     "name": "stdout",
     "output_type": "stream",
     "text": [
      "Epoch  0 , loss= 662.0999145507812\n",
      "Epoch  10 , loss= 660.062744140625\n",
      "Epoch  20 , loss= 659.7127685546875\n",
      "Epoch  30 , loss= 659.6981811523438\n",
      "Epoch  40 , loss= 659.685791015625\n",
      "Epoch  50 , loss= 659.671630859375\n",
      "Epoch  60 , loss= 659.6640625\n"
     ]
    },
    {
     "data": {
      "image/png": "[encoded data removed]",
      "text/plain": [
       "<Figure size 640x480 with 1 Axes>"
      ]
     },
     "metadata": {},
     "output_type": "display_data"
    },
    {
     "name": "stderr",
     "output_type": "stream",
     "text": [
      "/tmp/ipykernel_14329/728929343.py:90: UserWarning: Implicit dimension choice for softmax has been deprecated. Change the call to include dim=X as an argument.\n",
      "  alpha = torch.nn.functional.softmax(alpha)\n",
      "/tmp/ipykernel_14329/3968403812.py:16: UserWarning: Implicit dimension choice for softmax has been deprecated. Change the call to include dim=X as an argument.\n",
      "  alpha = torch.nn.functional.softmax(alpha)\n"
     ]
    },
    {
     "name": "stdout",
     "output_type": "stream",
     "text": [
      "Epoch  0 , loss= 2.9269673824310303\n",
      "Epoch  10 , loss= 0.8948991298675537\n",
      "Epoch  20 , loss= 0.545428454875946\n",
      "Epoch  30 , loss= 0.5304697751998901\n",
      "Epoch  40 , loss= 0.5182719826698303\n",
      "Epoch  50 , loss= 0.5042943954467773\n",
      "Epoch  60 , loss= 0.4966922998428345\n",
      "Epoch  70 , loss= 0.49344033002853394\n"
     ]
    },
    {
     "data": {
      "image/png": "[encoded data removed]",
      "text/plain": [
       "<Figure size 640x480 with 1 Axes>"
      ]
     },
     "metadata": {},
     "output_type": "display_data"
    }
   ],
   "source": [
    "m = 'CanESM5-1'\n",
    "lambda_ridge = 200.0\n",
    "lambda_robust = 200.0\n",
    "mu_ = 300\n",
    "\n",
    "beta_robust_tmp, y_pred_robust_tmp, y_test_robust_tmp, weights_robust_tmp, rmse_training_robust_tmp \\\n",
    "= leave_one_out(m,x_predictor,y_forced_response,\\\n",
    "                variance_processed_ssp585,\\\n",
    "                lon_size,lat_size,\\\n",
    "                lambda_robust,method='robust',mu_=mu_,\\\n",
    "                nbEpochs=300,verbose=True)\n",
    "\n",
    "beta_ridge_tmp, y_pred_ridge_tmp, y_test_ridge_tmp, weights_ridge_tmp, rmse_training_ridge_tmp \\\n",
    "= leave_one_out(m,x_predictor,y_forced_response,variance_processed_ssp585,\\\n",
    "                lon_size,lat_size,\\\n",
    "                lambda_ridge,method='ridge',mu_=mu_,\n",
    "                nbEpochs=300,verbose=True)"
   ]
  },
  {
   "cell_type": "code",
   "execution_count": 96,
   "id": "c51ff20a-4d27-426d-8e9d-4efe9a34881f",
   "metadata": {},
   "outputs": [
    {
     "name": "stdout",
     "output_type": "stream",
     "text": [
      "tensor(1.1292)\n",
      "tensor(1.1225)\n"
     ]
    }
   ],
   "source": [
    "rmse_robust_test = torch.zeros(len(x_predictor[m].keys()))\n",
    "for idx_r, r in enumerate(x_predictor[m].keys()):\n",
    "    rmse_robust_test[idx_r] = np.mean((y_pred_robust_tmp[r] - y_test_robust_tmp[r])**2/variance_processed_ssp585[m].detach().numpy())\n",
    "\n",
    "rmse_ridge_test = torch.zeros(len(x_predictor[m].keys()))\n",
    "for idx_r, r in enumerate(x_predictor[m].keys()):\n",
    "    \n",
    "    rmse_ridge_test[idx_r] = np.mean((y_pred_ridge_tmp[r] - y_test_ridge_tmp[r])**2/variance_processed_ssp585[m].detach().numpy())\n",
    "    \n",
    "print(torch.mean(rmse_ridge_test))\n",
    "print(torch.mean(rmse_robust_test))"
   ]
  },
  {
   "cell_type": "code",
   "execution_count": 23,
   "id": "5b3ed5cc-c176-4ba2-8c55-5c9ff358e631",
   "metadata": {},
   "outputs": [],
   "source": [
    "idx_tmp = torch.argmin(variance_processed_ssp585[m]).item()"
   ]
  },
  {
   "cell_type": "code",
   "execution_count": 51,
   "id": "c8934759-c92a-48d2-95a0-17a919bc519e",
   "metadata": {},
   "outputs": [],
   "source": [
    "def leave_one_out_procedure(x,y,vars,lon_size,lat_size,lambda_,method='robust',mu_=1.0,nbEpochs=500,verbose=True):\n",
    "\n",
    "    beta = {}\n",
    "    y_pred = {}\n",
    "    y_test = {}\n",
    "    rmse_mean = {}\n",
    "    rmse_q95 = {}\n",
    "    rmse_worst = {}\n",
    "    \n",
    "    weights = {m: 0.0 for idx_m, m in enumerate(x.keys())}\n",
    "    training_loss = {m: np.zeros(len(x.keys())) for idx_m, m in enumerate(x.keys())}\n",
    "    \n",
    "    for idx_m, m in enumerate(x.keys()):\n",
    "        \n",
    "        beta[m], y_pred[m], y_test[m], weights_tmp, training_loss[m] = leave_one_out(m,x,y,vars,lon_size,lat_size,lambda_,method,mu_,nbEpochs,verbose)\n",
    "\n",
    "        rmse_mean[m] = 0\n",
    "        err_tmp = np.zeros(len(x[m].keys()))\n",
    "        \n",
    "        for idx_i, i in enumerate(x[m].keys()):\n",
    "            rmse_mean[m] += np.mean(((y_test[m][i] - y_pred[m][i])**2/vars[m]).detach().numpy())\n",
    "            err_tmp[idx_i] = np.mean(((y_test[m][i] - y_pred[m][i])**2/vars[m]).detach().numpy())\n",
    "            \n",
    "        rmse_mean[m] = rmse_mean[m]/len(x[m].keys())\n",
    "        rmse_q95[m] = np.quantile(err_tmp,0.95)\n",
    "        rmse_worst[m] = np.max(err_tmp)\n",
    "            \n",
    "        # compute the weight when a single model is out \n",
    "        if method == 'robust':    \n",
    "            for m_tmp in list(x.keys()):\n",
    "                if m_tmp != m:\n",
    "                    weights[m_tmp] += (1/(len(x.keys())))* weights_tmp[m_tmp]\n",
    "\n",
    "        # print the rmse\n",
    "        print('RMSE (mean) on model ', m, ' : ', rmse_mean[m])\n",
    "        print('RMSE (95%) on model ', m, ' : ', rmse_q95[m])\n",
    "        print('RMSE (worst) on model ', m, ' : ', rmse_worst[m])\n",
    "\n",
    "    \n",
    "    ################# plot the weights #################\n",
    "    fig, ax = plt.subplots()\n",
    "    models = list(x.keys()) \n",
    "    weights_plot = list(weights.values()) \n",
    "    ax.bar(models, weights_plot,label='Model weights')\n",
    "    ax.set_ylabel(r'weights $\\gamma$')\n",
    "    ax.set_title('cmip6 models')\n",
    "    ax.legend()\n",
    "    ax.set_xticklabels(models, rotation=-90)\n",
    "    plt.tight_layout()\n",
    "    plt.savefig(\"results/weights_\"+method+\"_\"+str(mu_)+\"_\"+str(lambda_)+\".eps\", dpi=150)\n",
    "    plt.show()\n",
    "\n",
    "    ################# plot the rmse #################\n",
    "    fig, ax = plt.subplots()\n",
    "    models = list(x.keys()) \n",
    "    rmse_plot = list(rmse_mean.values()) \n",
    "    ax.bar(models, rmse_plot,label='rmse')\n",
    "    ax.set_ylabel(r'LOO')\n",
    "    ax.set_title('LOO rmse')\n",
    "    ax.legend()\n",
    "    ax.set_xticklabels(models, rotation=-90)\n",
    "    plt.tight_layout()\n",
    "    plt.savefig(\"results/rmse_\"+method+\"_\"+str(mu_)+\"_\"+str(lambda_)+\".eps\", dpi=150)\n",
    "    plt.show()\n",
    "    \n",
    "\n",
    "    return beta, rmse_mean, rmse_q95, rmse_worst, weights, training_loss"
   ]
  },
  {
   "cell_type": "code",
   "execution_count": 58,
   "id": "ba084d31-a9be-4112-947f-fdf7d52a272a",
   "metadata": {},
   "outputs": [
    {
     "name": "stderr",
     "output_type": "stream",
     "text": [
      "/tmp/ipykernel_14329/24363189.py:90: UserWarning: Implicit dimension choice for softmax has been deprecated. Change the call to include dim=X as an argument.\n",
      "  alpha = torch.nn.functional.softmax(alpha)\n",
      "/tmp/ipykernel_14329/3968403812.py:16: UserWarning: Implicit dimension choice for softmax has been deprecated. Change the call to include dim=X as an argument.\n",
      "  alpha = torch.nn.functional.softmax(alpha)\n"
     ]
    },
    {
     "name": "stdout",
     "output_type": "stream",
     "text": [
      "RMSE (mean) on model  CanESM5-1  :  1.0900179266880528\n",
      "RMSE (95%) on model  CanESM5-1  :  2.074060616575671\n",
      "RMSE (worst) on model  CanESM5-1  :  2.505948063108285\n",
      "RMSE (mean) on model  CNRM-ESM2-1  :  0.3799182330382088\n",
      "RMSE (95%) on model  CNRM-ESM2-1  :  0.4769434053810441\n",
      "RMSE (worst) on model  CNRM-ESM2-1  :  0.4851580257292934\n",
      "RMSE (mean) on model  GISS-E2-2-G  :  0.3658562499375132\n",
      "RMSE (95%) on model  GISS-E2-2-G  :  0.46403089743391024\n",
      "RMSE (worst) on model  GISS-E2-2-G  :  0.4811084208170879\n",
      "RMSE (mean) on model  CNRM-CM6-1  :  0.5519604336487385\n",
      "RMSE (95%) on model  CNRM-CM6-1  :  0.670286546104408\n",
      "RMSE (worst) on model  CNRM-CM6-1  :  0.6710222068785097\n",
      "RMSE (mean) on model  MIROC-ES2L  :  0.40974917935783706\n",
      "RMSE (95%) on model  MIROC-ES2L  :  0.6523497313275831\n",
      "RMSE (worst) on model  MIROC-ES2L  :  0.6666993839010775\n",
      "RMSE (mean) on model  EC-Earth3  :  0.44629930524406614\n",
      "RMSE (95%) on model  EC-Earth3  :  0.7651902739011323\n",
      "RMSE (worst) on model  EC-Earth3  :  0.817910654567318\n",
      "RMSE (mean) on model  GISS-E2-1-H  :  0.6395316007204269\n",
      "RMSE (95%) on model  GISS-E2-1-H  :  0.7591475858831034\n",
      "RMSE (worst) on model  GISS-E2-1-H  :  0.7848292581678686\n",
      "RMSE (mean) on model  EC-Earth3-Veg  :  0.47561782655149304\n",
      "RMSE (95%) on model  EC-Earth3-Veg  :  0.6246286442938846\n",
      "RMSE (worst) on model  EC-Earth3-Veg  :  0.6285350705095758\n",
      "RMSE (mean) on model  MIROC6  :  0.3065964456806348\n",
      "RMSE (95%) on model  MIROC6  :  0.4962970491069128\n",
      "RMSE (worst) on model  MIROC6  :  0.5693359548953886\n"
     ]
    },
    {
     "name": "stderr",
     "output_type": "stream",
     "text": [
      "/tmp/ipykernel_14329/3123796454.py:48: UserWarning: set_ticklabels() should only be used with a fixed number of ticks, i.e. after set_ticks() or using a FixedLocator.\n",
      "  ax.set_xticklabels(models, rotation=-90)\n",
      "The PostScript backend does not support transparency; partially transparent artists will be rendered opaque.\n"
     ]
    },
    {
     "name": "stdout",
     "output_type": "stream",
     "text": [
      "RMSE (mean) on model  CESM2  :  0.8389829535252211\n",
      "RMSE (95%) on model  CESM2  :  0.9529017742804011\n",
      "RMSE (worst) on model  CESM2  :  0.9550469871268316\n"
     ]
    },
    {
     "data": {
      "image/png": "[encoded data removed]",
      "text/plain": [
       "<Figure size 640x480 with 1 Axes>"
      ]
     },
     "metadata": {},
     "output_type": "display_data"
    },
    {
     "name": "stderr",
     "output_type": "stream",
     "text": [
      "/tmp/ipykernel_14329/3123796454.py:61: UserWarning: set_ticklabels() should only be used with a fixed number of ticks, i.e. after set_ticks() or using a FixedLocator.\n",
      "  ax.set_xticklabels(models, rotation=-90)\n",
      "The PostScript backend does not support transparency; partially transparent artists will be rendered opaque.\n"
     ]
    },
    {
     "data": {
      "image/png": "[encoded data removed]",
      "text/plain": [
       "<Figure size 640x480 with 1 Axes>"
      ]
     },
     "metadata": {},
     "output_type": "display_data"
    },
    {
     "name": "stdout",
     "output_type": "stream",
     "text": [
      "RMSE (mean) on model  CanESM5-1  :  1.1291758645109924\n",
      "RMSE (95%) on model  CanESM5-1  :  2.046689952843967\n",
      "RMSE (worst) on model  CanESM5-1  :  2.572043929873227\n",
      "RMSE (mean) on model  CNRM-ESM2-1  :  0.3798403183116695\n",
      "RMSE (95%) on model  CNRM-ESM2-1  :  0.47677013171209354\n",
      "RMSE (worst) on model  CNRM-ESM2-1  :  0.48495656994941416\n",
      "RMSE (mean) on model  GISS-E2-2-G  :  0.36580910659428606\n",
      "RMSE (95%) on model  GISS-E2-2-G  :  0.46393041150568176\n",
      "RMSE (worst) on model  GISS-E2-2-G  :  0.4810247406903334\n",
      "RMSE (mean) on model  CNRM-CM6-1  :  0.552035974627273\n",
      "RMSE (95%) on model  CNRM-CM6-1  :  0.6703393686381117\n",
      "RMSE (worst) on model  CNRM-CM6-1  :  0.6711264737783896\n",
      "RMSE (mean) on model  MIROC-ES2L  :  0.40978517962842514\n",
      "RMSE (95%) on model  MIROC-ES2L  :  0.6524490378215793\n",
      "RMSE (worst) on model  MIROC-ES2L  :  0.6668003728769752\n",
      "RMSE (mean) on model  EC-Earth3  :  0.44623834174954313\n",
      "RMSE (95%) on model  EC-Earth3  :  0.7649718118873927\n",
      "RMSE (worst) on model  EC-Earth3  :  0.8176665594032589\n",
      "RMSE (mean) on model  GISS-E2-1-H  :  0.6393834883384334\n",
      "RMSE (95%) on model  GISS-E2-1-H  :  0.7589664578596611\n",
      "RMSE (worst) on model  GISS-E2-1-H  :  0.7846106391799729\n",
      "RMSE (mean) on model  EC-Earth3-Veg  :  0.4756491169259068\n",
      "RMSE (95%) on model  EC-Earth3-Veg  :  0.6246698971200538\n",
      "RMSE (worst) on model  EC-Earth3-Veg  :  0.6285525392719489\n",
      "RMSE (mean) on model  MIROC6  :  0.3066096480700252\n",
      "RMSE (95%) on model  MIROC6  :  0.49636914564201284\n",
      "RMSE (worst) on model  MIROC6  :  0.5693889181799275\n"
     ]
    },
    {
     "name": "stderr",
     "output_type": "stream",
     "text": [
      "/tmp/ipykernel_14329/3123796454.py:48: UserWarning: set_ticklabels() should only be used with a fixed number of ticks, i.e. after set_ticks() or using a FixedLocator.\n",
      "  ax.set_xticklabels(models, rotation=-90)\n",
      "The PostScript backend does not support transparency; partially transparent artists will be rendered opaque.\n"
     ]
    },
    {
     "name": "stdout",
     "output_type": "stream",
     "text": [
      "RMSE (mean) on model  CESM2  :  0.9036761714192856\n",
      "RMSE (95%) on model  CESM2  :  1.0128159479590193\n",
      "RMSE (worst) on model  CESM2  :  1.0219259377358925\n"
     ]
    },
    {
     "data": {
      "image/png": "[encoded data removed]",
      "text/plain": [
       "<Figure size 640x480 with 1 Axes>"
      ]
     },
     "metadata": {},
     "output_type": "display_data"
    },
    {
     "name": "stderr",
     "output_type": "stream",
     "text": [
      "/tmp/ipykernel_14329/3123796454.py:61: UserWarning: set_ticklabels() should only be used with a fixed number of ticks, i.e. after set_ticks() or using a FixedLocator.\n",
      "  ax.set_xticklabels(models, rotation=-90)\n",
      "The PostScript backend does not support transparency; partially transparent artists will be rendered opaque.\n"
     ]
    },
    {
     "data": {
      "image/png": "[encoded data removed]",
      "text/plain": [
       "<Figure size 640x480 with 1 Axes>"
      ]
     },
     "metadata": {},
     "output_type": "display_data"
    }
   ],
   "source": [
    "mu_ = 0.001\n",
    "lambda_robust = 200.0\n",
    "lambda_ridge = 200.0\n",
    "beta_robust, rmse_robust_mean,rmse_robust_q95,rmse_robust_worst, weights_robust, rmse_training_robust = leave_one_out_procedure(x_predictor,y_forced_response,variance_processed_ssp585,\\\n",
    "                                                grid_lon_size,grid_lat_size,\\\n",
    "                                                lambda_=lambda_robust,method='robust',mu_=mu_,\\\n",
    "                                                nbEpochs=300,verbose=False)\n",
    "\n",
    "beta_ridge, rmse_ridge_mean, rmse_ridge_q95, rmse_ridge_worst, weights_ridge, rmse_training_ridge = leave_one_out_procedure(x_predictor,y_forced_response,variance_processed_ssp585,\\\n",
    "                                                grid_lon_size,grid_lat_size,\\\n",
    "                                                lambda_=lambda_ridge,method='ridge',mu_=mu_,\\\n",
    "                                                nbEpochs=300,verbose=False)"
   ]
  },
  {
   "cell_type": "code",
   "execution_count": 59,
   "id": "718948e0-74e9-451e-a310-845aa374eca7",
   "metadata": {},
   "outputs": [
    {
     "name": "stdout",
     "output_type": "stream",
     "text": [
      "======= Statistics ========\n",
      "\n",
      "\n",
      "          Robust Ridge\n",
      "0.95:     0.977  1.028\n",
      "0.90:     0.864  0.926\n",
      "0.75:     0.618  0.618\n",
      "Median:   0.461  0.461\n",
      "Mean:     0.550  0.561\n",
      "Worst:    1.090  1.129\n"
     ]
    }
   ],
   "source": [
    "################## Robust regression #########################\n",
    "# compute the robust loo \n",
    "rmse_robust_tmp =  np.array(list(rmse_robust_mean.values()))\n",
    "\n",
    "# worst loo\n",
    "worst_loo_robust = np.max(rmse_robust_tmp)\n",
    "mean_loo_robust = np.mean(rmse_robust_tmp)\n",
    "\n",
    "\n",
    "# quantile 95, 90, 75\n",
    "q_loo_95_robust = np.quantile(rmse_robust_tmp, 0.95)\n",
    "q_loo_90_robust = np.quantile(rmse_robust_tmp, 0.90)\n",
    "q_loo_75_robust = np.quantile(rmse_robust_tmp, 0.75)\n",
    "q_loo_50_robust = np.quantile(rmse_robust_tmp, 0.5)\n",
    "\n",
    "################### Ridge regresssion ########################\n",
    "# compute the ridge loo\n",
    "rmse_ridge_tmp =  np.array(list(rmse_ridge_mean.values()))\n",
    "\n",
    "# worst loo Ridge\n",
    "worst_loo_ridge = np.max(rmse_ridge_tmp)\n",
    "mean_loo_ridge = np.mean(rmse_ridge_tmp)\n",
    "\n",
    "\n",
    "# quantile 95, 90, 75\n",
    "q_loo_95_ridge = np.quantile(rmse_ridge_tmp, 0.95)\n",
    "q_loo_90_ridge = np.quantile(rmse_ridge_tmp, 0.90)\n",
    "q_loo_75_ridge = np.quantile(rmse_ridge_tmp, 0.75)\n",
    "q_loo_50_ridge = np.quantile(rmse_ridge_tmp, 0.5)\n",
    "\n",
    "\n",
    "\n",
    "print(\"======= Statistics ========\")\n",
    "print(\"\\n\")\n",
    "print(\"          Robust Ridge\")\n",
    "print(\"0.95:     {:.3f}  {:.3f}\".format(q_loo_95_robust,q_loo_95_ridge))\n",
    "print(\"0.90:     {:.3f}  {:.3f}\".format(q_loo_90_robust,q_loo_90_ridge))\n",
    "print(\"0.75:     {:.3f}  {:.3f}\".format(q_loo_75_robust,q_loo_75_ridge))\n",
    "print(\"Median:   {:.3f}  {:.3f}\".format(q_loo_50_robust,q_loo_50_ridge))\n",
    "print(\"Mean:     {:.3f}  {:.3f}\".format(mean_loo_robust,mean_loo_ridge))\n",
    "print(\"Worst:    {:.3f}  {:.3f}\".format(worst_loo_robust,worst_loo_ridge))"
   ]
  },
  {
   "cell_type": "code",
   "execution_count": null,
   "id": "9e1d053e-a713-40bc-8fdd-4776b2a454e1",
   "metadata": {},
   "outputs": [],
   "source": [
    "# ======= Statistics ========\n",
    "\n",
    "\n",
    "#           Robust Ridge\n",
    "# 0.95:     1.712  1.835\n",
    "# 0.90:     1.430  1.583\n",
    "# 0.75:     0.919  1.190\n",
    "# Median:   0.686  0.575\n",
    "# Mean:     0.861  0.898\n",
    "# Worst:    1.994  2.086"
   ]
  },
  {
   "cell_type": "code",
   "execution_count": 62,
   "id": "ebf0a1c0-5330-4150-8dc3-6c6ab1b83daa",
   "metadata": {},
   "outputs": [
    {
     "data": {
      "text/plain": [
       "{'CanESM5-1': tensor([0.0000e+00, 0.0000e+00, 0.0000e+00,  ..., 1.1397e-04, 1.0608e-04,\n",
       "         9.8255e-05], dtype=torch.float64, requires_grad=True),\n",
       " 'CNRM-ESM2-1': tensor([0.0000e+00, 0.0000e+00, 0.0000e+00,  ..., 8.8652e-05, 8.0367e-05,\n",
       "         7.2466e-05], dtype=torch.float64, requires_grad=True),\n",
       " 'GISS-E2-2-G': tensor([0.0000e+00, 0.0000e+00, 0.0000e+00,  ..., 8.7739e-05, 7.8636e-05,\n",
       "         6.8892e-05], dtype=torch.float64, requires_grad=True),\n",
       " 'CNRM-CM6-1': tensor([0.0000e+00, 0.0000e+00, 0.0000e+00,  ..., 8.8158e-05, 8.0106e-05,\n",
       "         7.4577e-05], dtype=torch.float64, requires_grad=True),\n",
       " 'MIROC-ES2L': tensor([0.0000e+00, 0.0000e+00, 0.0000e+00,  ..., 9.8173e-05, 8.9934e-05,\n",
       "         8.2022e-05], dtype=torch.float64, requires_grad=True),\n",
       " 'EC-Earth3': tensor([0.0000e+00, 0.0000e+00, 0.0000e+00,  ..., 1.0447e-04, 9.5487e-05,\n",
       "         8.7159e-05], dtype=torch.float64, requires_grad=True),\n",
       " 'GISS-E2-1-H': tensor([0.0000, 0.0000, 0.0000,  ..., 0.0001, 0.0001, 0.0001],\n",
       "        dtype=torch.float64, requires_grad=True),\n",
       " 'EC-Earth3-Veg': tensor([0.0000e+00, 0.0000e+00, 0.0000e+00,  ..., 6.0219e-05, 5.2052e-05,\n",
       "         4.5193e-05], dtype=torch.float64, requires_grad=True),\n",
       " 'MIROC6': tensor([0.0000e+00, 0.0000e+00, 0.0000e+00,  ..., 8.9643e-05, 8.0507e-05,\n",
       "         7.1916e-05], dtype=torch.float64, requires_grad=True),\n",
       " 'CESM2': tensor([0.0000e+00, 0.0000e+00, 0.0000e+00,  ..., 7.7953e-05, 7.2662e-05,\n",
       "         6.5657e-05], dtype=torch.float64, requires_grad=True)}"
      ]
     },
     "execution_count": 62,
     "metadata": {},
     "output_type": "execute_result"
    }
   ],
   "source": [
    "beta_robust"
   ]
  },
  {
   "cell_type": "code",
   "execution_count": 64,
   "id": "5dffb46f-5f03-45b9-9730-70497641d1cc",
   "metadata": {},
   "outputs": [
    {
     "name": "stderr",
     "output_type": "stream",
     "text": [
      "/tmp/ipykernel_14329/2756190840.py:28: UserWarning: set_ticklabels() should only be used with a fixed number of ticks, i.e. after set_ticks() or using a FixedLocator.\n",
      "  ax.set_xticklabels(models, rotation=-90)\n"
     ]
    },
    {
     "data": {
      "image/png": "[encoded data removed]",
      "text/plain": [
       "<Figure size 640x480 with 1 Axes>"
      ]
     },
     "metadata": {},
     "output_type": "display_data"
    }
   ],
   "source": [
    "M = len(list(dic_reduced_ssp585.keys()))\n",
    "gamma = torch.zeros(M)\n",
    "res = torch.zeros(M,33)\n",
    "\n",
    "for idx_m,m in enumerate(dic_reduced_ssp585.keys()):\n",
    "    \n",
    "    for idx_i, i in enumerate(dic_reduced_ssp585[m].keys()):\n",
    "        res[idx_m,:] += (y_train[m][i] - torch.matmul(x_train[m][i],beta_robust[m]))**2/variance_processed_ssp585[m]\n",
    "        \n",
    "    res[idx_m,:] = res[idx_m,:]/len(dic_reduced_ssp585[m].keys())\n",
    "\n",
    "    gamma[idx_m] = (1/mu_)*torch.nanmean(res[idx_m,:],axis=0)\n",
    "\n",
    "\n",
    "gamma = torch.nn.functional.softmax(gamma,dim=0)\n",
    "\n",
    "\n",
    "# plot the model contributions\n",
    "fig, ax = plt.subplots()\n",
    "models = list(dic_reduced_ssp585.keys())\n",
    "weights = list(gamma.detach().numpy())\n",
    "\n",
    "ax.bar(models, weights,label='Model weights')\n",
    "ax.set_ylabel(r'weights $\\gamma$')\n",
    "ax.set_ylim(0.0,0.8)\n",
    "ax.set_title('cmip6 models')\n",
    "ax.legend()\n",
    "ax.set_xticklabels(models, rotation=-90)\n",
    "plt.tight_layout()\n",
    "plt.show()"
   ]
  },
  {
   "cell_type": "code",
   "execution_count": null,
   "id": "0441e832-41cb-43b9-ac40-a90a6b873bed",
   "metadata": {},
   "outputs": [],
   "source": [
    "def cross_validation_loo(x,y,vars,lon_size,lat_size,lambda_range,method='robust',alpha_range=np.array([0.1,1.0,10.0]),nbEpochs=500,verbose=True):\n",
    "\n",
    "    # create the pytorch tensor \n",
    "    beta = {}\n",
    "    rmse = {}\n",
    "    weights = {}\n",
    "    y_pred = {}\n",
    "    y_test = {}\n",
    "\n",
    "    if method != 'robust':\n",
    "        alpha_range_tmp = np.array([1.0])\n",
    "    \n",
    "    # for each pair (alpha, lambda) perform validation\n",
    "    \n",
    "    # for each lambda:\n",
    "    for idx_lambda, lambda_ in enumerate(lambda_range):\n",
    "\n",
    "        # for each alpha:\n",
    "        for idx_alpha, alpha_ in enumerate(alpha_range):\n",
    "\n",
    "            print(\"Cross validation: (\" + str(alpha_)+\", \"+ str(lambda_)+ \")\")\n",
    "\n",
    "            beta_tmp, rmse_tmp, weights_tmp = leave_one_out_procedure(x,y,vars,\\\n",
    "                                                                      lon_size,lat_size,\\\n",
    "                                                                      lambda_,method,alpha_,\\\n",
    "                                                                      nbEpochs=2,verbose=False)\n",
    "\n",
    "            beta[(alpha_,lambda_)] = beta_tmp\n",
    "            rmse[(alpha_,lambda_)] = rmse_tmp\n",
    "            weights[(alpha_,lambda_)] = weights_tmp\n",
    "\n",
    "    return beta, rmse, weights"
   ]
  },
  {
   "cell_type": "code",
   "execution_count": null,
   "id": "03f5e313-58b7-452c-87ab-e6ac297e8d9c",
   "metadata": {},
   "outputs": [],
   "source": [
    "# alpha_range = np.linspace(0.5, 1000, num=10)\n",
    "# lambda_range = np.linspace(0.01, 1000, num=20)\n",
    "\n",
    "\n",
    "# alpha_range = np.array([0.5])\n",
    "# lambda_range = np.array([500.0])\n",
    "\n",
    "# with open('alpha_range.npy', 'wb') as f:\n",
    "#     np.save(f, alpha_range)\n",
    "\n",
    "# with open('lambda_range.npy', 'wb') as f:\n",
    "#     np.save(f, lambda_range)\n",
    "\n",
    "# beta_robust, rmse_robust, weights_robust = cross_validation_loo(x_predictor,y_forced_response,variance_processed_ssp585,\\\n",
    "#                                                                 grid_lon_size,grid_lat_size,\\\n",
    "#                                                                 lambda_range,'robust',alpha_range,\\\n",
    "#                                                                 nbEpochs=2,verbose=True)"
   ]
  },
  {
   "cell_type": "code",
   "execution_count": null,
   "id": "0290a482-e85c-46a1-9228-3b482f229466",
   "metadata": {},
   "outputs": [],
   "source": [
    "# leave_one_out_procedure(x_predictor,y_forced_response,variance_processed_ssp585,\\\n",
    "#               grid_lon_size,grid_lat_size,\\\n",
    "#               alpha_,lambda_,\\\n",
    "#               nbEpochs=1000,verbose=False)"
   ]
  },
  {
   "cell_type": "markdown",
   "id": "9ec70e72-02af-47d5-8365-7cac0ce8dcb5",
   "metadata": {},
   "source": [
    "## All models vs Observations"
   ]
  },
  {
   "cell_type": "code",
   "execution_count": null,
   "id": "863cffaa-1901-4c73-97f8-dcd16be5aba2",
   "metadata": {},
   "outputs": [],
   "source": [
    "# alpha_ = 0.5\n",
    "# lambda_ = 50\n",
    "# selected_models = list(dic_reduced_ssp585.keys())\n",
    "# beta_robust = train_robust_model(x_train,y_train,variance_processed_ssp585,\\\n",
    "#                           grid_lat_size,grid_lat_size,\\\n",
    "#                           selected_models,alpha_,lambda_,nbEpochs=1000,verbose=True)"
   ]
  },
  {
   "cell_type": "code",
   "execution_count": null,
   "id": "01b5b3ff-2c0f-4b7b-ae41-de25f24ceecc",
   "metadata": {},
   "outputs": [],
   "source": [
    "# ###### Compute residual ##########\n",
    "# sst_tmp = sst[131:164,:,:].reshape((33,lon.shape[0]*lat.shape[0])).copy()\n",
    "# sst_tmp[np.abs(sst_tmp)> 1e20] = float('nan')\n",
    "# ytrue = np.nanmean(sst_tmp,axis=1)\n",
    "\n",
    "# # for each model, compute the predicted values \n",
    "# sst_tmp_zeros = sst[131:164,:,:].reshape((33,lon.shape[0]*lat.shape[0])).copy()\n",
    "# sst_tmp_zeros[np.abs(sst_tmp_zeros)> 1e20] = 0.0"
   ]
  },
  {
   "cell_type": "code",
   "execution_count": null,
   "id": "fca66bd9-ec72-4378-9d14-a3ddcbf9cd1b",
   "metadata": {},
   "outputs": [],
   "source": [
    "# beta_robust_tmp = {i: beta_robust[i].detach().numpy() for i in beta_robust.keys()}\n",
    "# beta_ridge_tmp = {i: beta_ridge[i].detach().numpy() for i in beta_ridge.keys()}"
   ]
  },
  {
   "cell_type": "code",
   "execution_count": null,
   "id": "bfcf46cf-5220-4439-9dd3-36b52b5fd152",
   "metadata": {},
   "outputs": [],
   "source": [
    "# beta_robust_tmp = np.nanmean(np.array(list(beta_robust_tmp.values())),axis=0)\n",
    "# beta_ridge_tmp = np.nanmean(np.array(list(beta_ridge_tmp.values())),axis=0)"
   ]
  },
  {
   "cell_type": "code",
   "execution_count": null,
   "id": "f6605844-0dec-432c-8685-6fa7894c526f",
   "metadata": {},
   "outputs": [],
   "source": [
    "# ypred_robust = np.matmul(beta_robust_tmp,sst_tmp_zeros.T)\n",
    "# ypred_ridge = np.matmul(beta_ridge_tmp,sst_tmp_zeros.T)\n",
    "\n",
    "# rmse_real_robust = np.mean((ypred_robust - ytrue)**2)\n",
    "# rmse_real_ridge = np.mean((ypred_ridge - ytrue)**2)\n",
    "# print(rmse_real_robust)\n",
    "# print(rmse_real_ridge)"
   ]
  }
 ],
 "metadata": {
  "kernelspec": {
   "display_name": "Python 3 (ipykernel)",
   "language": "python",
   "name": "python3"
  },
  "language_info": {
   "codemirror_mode": {
    "name": "ipython",
    "version": 3
   },
   "file_extension": ".py",
   "mimetype": "text/x-python",
   "name": "python",
   "nbconvert_exporter": "python",
   "pygments_lexer": "ipython3",
   "version": "3.9.18"
  }
 },
 "nbformat": 4,
 "nbformat_minor": 5
}
