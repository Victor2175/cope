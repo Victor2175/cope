{
 "cells": [
  {
   "cell_type": "markdown",
   "metadata": {},
   "source": [
    "# Parse the results and display them"
   ]
  },
  {
   "cell_type": "code",
   "execution_count": 1,
   "metadata": {},
   "outputs": [],
   "source": [
    "import os\n",
    "import sys\n",
    "maindir = os.getcwd()\n",
    "sys.path.append(maindir+\"/src\")"
   ]
  },
  {
   "cell_type": "code",
   "execution_count": 2,
   "metadata": {},
   "outputs": [],
   "source": [
    "import pickle\n",
    "import numpy as np\n",
    "import torch\n",
    "import matplotlib.pyplot as plt"
   ]
  },
  {
   "cell_type": "code",
   "execution_count": 3,
   "metadata": {},
   "outputs": [],
   "source": [
    "# read data\n",
    "\n",
    "# ridge regression\n",
    "with open(\"results/ridge/rmse_ridge_bis.pkl\", \"rb\") as f:\n",
    "    rmse_ridge = pickle.load(f)\n",
    "\n",
    "with open(\"results/ridge/w_ridge_bis.pkl\", \"rb\") as f:\n",
    "    w_ridge = pickle.load(f)\n",
    "\n",
    "with open(\"results/ridge/weights_ridge_bis.pkl\", \"rb\") as f:\n",
    "    weights_ridge = pickle.load(f)\n",
    "\n",
    "# ridge regression with low-rank constraint\n",
    "with open(\"results/ridge_low_rank/rmse_ridge_lr_bis.pkl\", \"rb\") as f:\n",
    "    rmse_ridge_lowrank = pickle.load(f)\n",
    "\n",
    "with open(\"results/ridge_low_rank/w_ridge_lr_bis.pkl\", \"rb\") as f:\n",
    "    w_ridge_lowrank = pickle.load(f)\n",
    "\n",
    "with open(\"results/ridge_low_rank/weights_ridge_lr_bis.pkl\", \"rb\") as f:\n",
    "    weights_ridge_lowrank = pickle.load(f)\n",
    "\n",
    "\n",
    "# robust regression\n",
    "with open(\"results/robust/rmse_robust_bis.pkl\", \"rb\") as f:\n",
    "    rmse_robust = pickle.load(f)\n",
    "\n",
    "with open(\"results/robust/w_robust_bis.pkl\", \"rb\") as f:\n",
    "    w_robust = pickle.load(f)\n",
    "\n",
    "with open(\"results/robust/weights_robust_bis.pkl\", \"rb\") as f:\n",
    "    weights_robust = pickle.load(f)\n",
    "\n",
    "\n",
    "# robust regression with low rank constraint\n",
    "with open(\"results/robust_low_rank/rmse_robust_lr_bis.pkl\", \"rb\") as f:\n",
    "    rmse_robust_lowrank = pickle.load(f)\n",
    "\n",
    "with open(\"results/robust_low_rank/w_robust_lr_bis.pkl\", \"rb\") as f:\n",
    "    w_robust_lowrank = pickle.load(f)\n",
    "\n",
    "with open(\"results/robust_low_rank/weights_robust_lr_bis.pkl\", \"rb\") as f:\n",
    "    weights_robust_lowrank = pickle.load(f)\n"
   ]
  },
  {
   "cell_type": "code",
   "execution_count": 4,
   "metadata": {},
   "outputs": [],
   "source": [
    "# # define range of values\n",
    "# mu_range_tmp = np.array([100.0,500.0, 1000.0, 5000.0,10000.0])\n",
    "# lambda_range_tmp = np.array([0.0,10.0,100.0, 1000.0])\n",
    "\n",
    "# define range of values\n",
    "mu_range_tmp = np.array([1.0, 5.0, 10.0, 50, 100.0,500.0, 1000.0])\n",
    "lambda_range_tmp = np.array([0.0, 10.0,50.0,100.0,500.0, 1000.0, 5000.0, 10000.0])\n",
    "\n",
    "\n",
    "# convert to dictionary of tensor \n",
    "rmse_ridge_tmp = {lambda_: torch.tensor(list(rmse_ridge[(lambda_,1.0)].values())) for lambda_ in lambda_range_tmp}\n",
    "rmse_ridge_lowrank_tmp = {lambda_: torch.tensor(list(rmse_ridge_lowrank[(lambda_,1.0)].values())) for lambda_ in lambda_range_tmp}\n",
    "rmse_robust_tmp = {(lambda_,mu_): torch.tensor(list(rmse_robust[(lambda_,mu_)].values())) for lambda_ in lambda_range_tmp for mu_ in mu_range_tmp}\n",
    "rmse_robust_lowrank_tmp = {(lambda_,mu_): torch.tensor(list(rmse_robust_lowrank[(lambda_,mu_)].values())) for lambda_ in lambda_range_tmp for mu_ in mu_range_tmp}\n",
    "\n",
    "\n",
    "# get worst and mean error of rmse ridge\n",
    "rmse_ridge_worst_loo = {lambda_: torch.max(rmse_ridge_tmp[lambda_]).item() for lambda_ in lambda_range_tmp}\n",
    "rmse_ridge_mean_loo = {lambda_: torch.mean(rmse_ridge_tmp[lambda_]).item() for lambda_ in lambda_range_tmp}\n",
    "\n",
    "# get worst and mean error of rmse ridge low rank\n",
    "rmse_ridge_lowrank_worst_loo = {lambda_: torch.max(rmse_ridge_lowrank_tmp[lambda_]).item() for lambda_ in lambda_range_tmp}\n",
    "rmse_ridge_lowrank_mean_loo = {lambda_: torch.mean(rmse_ridge_lowrank_tmp[lambda_]).item() for lambda_ in lambda_range_tmp}\n",
    "\n",
    "# get worst and mean error of rmse robust\n",
    "rmse_robust_worst_loo = {(lambda_,mu_): torch.max(rmse_robust_tmp[(lambda_,mu_)]).item() for lambda_ in lambda_range_tmp for mu_ in mu_range_tmp}\n",
    "rmse_robust_mean_loo = {(lambda_,mu_): torch.mean(rmse_robust_tmp[(lambda_,mu_)]).item() for lambda_ in lambda_range_tmp for mu_ in mu_range_tmp}\n",
    "\n",
    "# get worst and mean error of rmse robust low rank\n",
    "rmse_robust_lowrank_worst_loo = {(lambda_,mu_): torch.max(rmse_robust_lowrank_tmp[(lambda_,mu_)]).item() for lambda_ in lambda_range_tmp for mu_ in mu_range_tmp}\n",
    "rmse_robust_lowrank_mean_loo = {(lambda_,mu_): torch.mean(rmse_robust_lowrank_tmp[(lambda_,mu_)]).item() for lambda_ in lambda_range_tmp for mu_ in mu_range_tmp}\n",
    "\n"
   ]
  },
  {
   "cell_type": "code",
   "execution_count": 9,
   "metadata": {},
   "outputs": [
    {
     "data": {
      "text/plain": [
       "{0.0: tensor([0.7006, 0.1124, 0.2422, 0.2347, 0.1827, 0.1538, 0.0935, 0.2481, 0.0885,\n",
       "         0.0954, 1.1915, 0.0825, 0.0733, 0.1428, 0.1091, 0.1424, 0.2622, 0.1076,\n",
       "         1.4933, 0.4957, 1.2304, 0.2263, 0.0856, 1.5977, 0.0728, 0.7003, 0.6258,\n",
       "         0.1260, 0.7168, 0.1594, 0.1070, 0.3833, 0.1673, 0.6417]),\n",
       " 10.0: tensor([0.6915, 0.1121, 0.2416, 0.2336, 0.1824, 0.1531, 0.0930, 0.2477, 0.0880,\n",
       "         0.0947, 1.1753, 0.0822, 0.0730, 0.1428, 0.1087, 0.1424, 0.2615, 0.1067,\n",
       "         1.4713, 0.4923, 1.2197, 0.2232, 0.0845, 1.5773, 0.0726, 0.6954, 0.6217,\n",
       "         0.1229, 0.7044, 0.1590, 0.1064, 0.3774, 0.1667, 0.6399]),\n",
       " 50.0: tensor([0.6703, 0.1115, 0.2401, 0.2307, 0.1816, 0.1517, 0.0918, 0.2466, 0.0869,\n",
       "         0.0929, 1.1391, 0.0817, 0.0721, 0.1427, 0.1075, 0.1426, 0.2596, 0.1042,\n",
       "         1.4188, 0.4826, 1.1876, 0.2155, 0.0822, 1.5304, 0.0719, 0.6825, 0.6129,\n",
       "         0.1141, 0.6716, 0.1583, 0.1050, 0.3619, 0.1654, 0.6333]),\n",
       " 100.0: tensor([0.6552, 0.1112, 0.2388, 0.2284, 0.1809, 0.1506, 0.0909, 0.2458, 0.0862,\n",
       "         0.0916, 1.1140, 0.0814, 0.0713, 0.1428, 0.1065, 0.1429, 0.2581, 0.1023,\n",
       "         1.3838, 0.4749, 1.1653, 0.2096, 0.0807, 1.4988, 0.0714, 0.6733, 0.6070,\n",
       "         0.1073, 0.6483, 0.1577, 0.1038, 0.3513, 0.1643, 0.6286]),\n",
       " 500.0: tensor([0.6153, 0.1104, 0.2345, 0.2213, 0.1782, 0.1478, 0.0882, 0.2421, 0.0843,\n",
       "         0.0871, 1.0506, 0.0808, 0.0686, 0.1437, 0.1032, 0.1446, 0.2534, 0.0963,\n",
       "         1.3001, 0.4524, 1.1095, 0.1923, 0.0770, 1.4236, 0.0694, 0.6496, 0.5899,\n",
       "         0.0881, 0.5911, 0.1559, 0.0997, 0.3212, 0.1608, 0.6155]),\n",
       " 1000.0: tensor([0.6009, 0.1102, 0.2326, 0.2180, 0.1768, 0.1466, 0.0868, 0.2401, 0.0834,\n",
       "         0.0847, 1.0288, 0.0808, 0.0670, 0.1448, 0.1016, 0.1457, 0.2513, 0.0935,\n",
       "         1.2742, 0.4439, 1.0928, 0.1853, 0.0758, 1.4006, 0.0682, 0.6411, 0.5835,\n",
       "         0.0804, 0.5730, 0.1552, 0.0974, 0.3090, 0.1592, 0.6106]),\n",
       " 5000.0: tensor([0.5868, 0.1101, 0.2299, 0.2126, 0.1736, 0.1445, 0.0840, 0.2362, 0.0812,\n",
       "         0.0792, 1.0149, 0.0821, 0.0634, 0.1494, 0.0977, 0.1490, 0.2482, 0.0875,\n",
       "         1.2497, 0.4321, 1.0855, 0.1745, 0.0754, 1.3778, 0.0653, 0.6295, 0.5786,\n",
       "         0.0675, 0.5535, 0.1542, 0.0918, 0.2886, 0.1568, 0.6057]),\n",
       " 10000.0: tensor([0.5888, 0.1105, 0.2299, 0.2121, 0.1727, 0.1440, 0.0831, 0.2354, 0.0803,\n",
       "         0.0769, 1.0260, 0.0831, 0.0621, 0.1522, 0.0964, 0.1508, 0.2485, 0.0856,\n",
       "         1.2548, 0.4312, 1.0964, 0.1724, 0.0760, 1.3807, 0.0640, 0.6292, 0.5815,\n",
       "         0.0640, 0.5534, 0.1546, 0.0894, 0.2848, 0.1568, 0.6077])}"
      ]
     },
     "execution_count": 9,
     "metadata": {},
     "output_type": "execute_result"
    }
   ],
   "source": [
    "rmse_ridge_tmp"
   ]
  },
  {
   "cell_type": "code",
   "execution_count": 5,
   "metadata": {},
   "outputs": [],
   "source": [
    "# get the best (worst and mean) rmse for each method\n",
    "best_worst_ridge = min(rmse_ridge_worst_loo, key=rmse_ridge_worst_loo.get)\n",
    "best_worst_ridge_lowrank = min(rmse_ridge_lowrank_worst_loo, key=rmse_ridge_lowrank_worst_loo.get)\n",
    "best_worst_robust = min(rmse_robust_worst_loo, key=rmse_robust_worst_loo.get)\n",
    "best_worst_robust_lowrank = min(rmse_robust_lowrank_worst_loo, key=rmse_robust_lowrank_worst_loo.get)\n",
    "\n",
    "best_mean_ridge = min(rmse_ridge_mean_loo, key=rmse_ridge_mean_loo.get)\n",
    "best_mean_ridge_lowrank = min(rmse_ridge_lowrank_mean_loo, key=rmse_ridge_lowrank_mean_loo.get)\n",
    "best_mean_robust = min(rmse_robust_mean_loo, key=rmse_robust_mean_loo.get)\n",
    "best_mean_robust_lowrank = min(rmse_robust_lowrank_mean_loo, key=rmse_robust_lowrank_mean_loo.get)\n"
   ]
  },
  {
   "cell_type": "code",
   "execution_count": 6,
   "metadata": {},
   "outputs": [],
   "source": [
    "# define the best rmse for each method\n",
    "rmse_best_worst_ridge = rmse_ridge[(best_worst_ridge,1.0)]\n",
    "rmse_best_worst_ridge_lowrank = rmse_ridge_lowrank[(best_worst_ridge_lowrank,1.0)]\n",
    "rmse_best_worst_robust = rmse_robust[(best_worst_robust)]\n",
    "rmse_best_worst_robust_lowrank = rmse_robust_lowrank[(best_worst_robust_lowrank)]\n",
    "\n",
    "rmse_best_mean_ridge = rmse_ridge[(best_mean_ridge,1.0)]\n",
    "rmse_best_mean_ridge_lowrank = rmse_ridge_lowrank[(best_mean_ridge_lowrank,1.0)]\n",
    "rmse_best_mean_robust = rmse_robust[(best_mean_robust)]\n",
    "rmse_best_mean_robust_lowrank = rmse_robust_lowrank[(best_mean_robust_lowrank)]\n"
   ]
  },
  {
   "cell_type": "code",
   "execution_count": 13,
   "metadata": {},
   "outputs": [
    {
     "data": {
      "text/plain": [
       "'CAS-ESM2-0'"
      ]
     },
     "execution_count": 13,
     "metadata": {},
     "output_type": "execute_result"
    }
   ],
   "source": [
    "A = list(rmse_best_worst_ridge.values())\n",
    "A = np.array(A)\n",
    "list(rmse_best_worst_ridge.keys())[np.argmax(A)]"
   ]
  },
  {
   "cell_type": "code",
   "execution_count": null,
   "metadata": {},
   "outputs": [
    {
     "name": "stdout",
     "output_type": "stream",
     "text": [
      "======= Statistics ========\n",
      "\n",
      "\n",
      "          Ridge   RR-Lr   Robust  Robust-Lr\n",
      "Worst:    1.378   1.506   1.179   1.414\n",
      "0.95:     1.143   1.265   1.031   1.223\n",
      "0.90:     0.899   0.999   0.827   0.961\n",
      "0.75:     0.523   0.569   0.519   0.575\n",
      "Median:   0.165   0.173   0.264   0.232\n",
      "Mean:     0.336   0.362   0.386   0.396\n"
     ]
    }
   ],
   "source": [
    "################### Ridge regresssion ########################\n",
    "# compute the ridge loo\n",
    "rmse_ridge_tmp =  np.array(list(rmse_best_worst_ridge.values()))\n",
    "\n",
    "# worst loo \n",
    "# Ridge\n",
    "worst_loo_ridge = np.max(rmse_ridge_tmp)\n",
    "mean_loo_ridge = np.mean(rmse_ridge_tmp)\n",
    "\n",
    "\n",
    "# quantile 95, 90, 75\n",
    "q_loo_95_ridge = np.quantile(rmse_ridge_tmp, 0.95)\n",
    "q_loo_90_ridge = np.quantile(rmse_ridge_tmp, 0.90)\n",
    "q_loo_75_ridge = np.quantile(rmse_ridge_tmp, 0.75)\n",
    "q_loo_50_ridge = np.quantile(rmse_ridge_tmp, 0.5)\n",
    "\n",
    "\n",
    "######################## compute the ridge rrr ######################\n",
    "rmse_rrr_tmp =  np.array(list(rmse_best_worst_ridge_lowrank.values()))\n",
    "\n",
    "# worst loo Ridge\n",
    "worst_loo_rrr = np.max(rmse_rrr_tmp)\n",
    "mean_loo_rrr = np.mean(rmse_rrr_tmp)\n",
    "\n",
    "\n",
    "# quantile 95, 90, 75\n",
    "q_loo_95_rrr = np.quantile(rmse_rrr_tmp, 0.95)\n",
    "q_loo_90_rrr = np.quantile(rmse_rrr_tmp, 0.90)\n",
    "q_loo_75_rrr = np.quantile(rmse_rrr_tmp, 0.75)\n",
    "q_loo_50_rrr = np.quantile(rmse_rrr_tmp, 0.5)\n",
    "\n",
    "\n",
    "######################## compute the robust regression ######################\n",
    "rmse_robust_tmp =  np.array(list(rmse_best_worst_robust.values()))\n",
    "\n",
    "# worst loo Ridge\n",
    "worst_loo_robust = np.max(rmse_robust_tmp)\n",
    "mean_loo_robust = np.mean(rmse_robust_tmp)\n",
    "\n",
    "\n",
    "# quantile 95, 90, 75\n",
    "q_loo_95_robust = np.quantile(rmse_robust_tmp, 0.95)\n",
    "q_loo_90_robust = np.quantile(rmse_robust_tmp, 0.90)\n",
    "q_loo_75_robust = np.quantile(rmse_robust_tmp, 0.75)\n",
    "q_loo_50_robust = np.quantile(rmse_robust_tmp, 0.5)\n",
    "\n",
    "######################## compute the robust regression with low rank constraint ######################\n",
    "rmse_robust_rrr =  np.array(list(rmse_best_worst_robust_lowrank.values()))\n",
    "\n",
    "# worst loo Ridge\n",
    "worst_loo_robust_rrr = np.max(rmse_robust_rrr)\n",
    "mean_loo_robust_rrr = np.mean(rmse_robust_rrr)\n",
    "\n",
    "\n",
    "# quantile 95, 90, 75\n",
    "q_loo_95_robust_rrr = np.quantile(rmse_robust_rrr, 0.95)\n",
    "q_loo_90_robust_rrr = np.quantile(rmse_robust_rrr, 0.90)\n",
    "q_loo_75_robust_rrr = np.quantile(rmse_robust_rrr, 0.75)\n",
    "q_loo_50_robust_rrr = np.quantile(rmse_robust_rrr, 0.5)\n",
    "\n",
    "\n",
    "print(\"======= Statistics ========\")\n",
    "print(\"\\n\")\n",
    "print(\"          Ridge   RR-Lr   Robust  Robust-Lr\")\n",
    "print(\"Worst:    {:.3f}   {:.3f}   {:.3f}   {:.3f}\".format(worst_loo_ridge,worst_loo_rrr,worst_loo_robust, worst_loo_robust_rrr))\n",
    "print(\"0.95:     {:.3f}   {:.3f}   {:.3f}   {:.3f}\".format(q_loo_95_ridge,q_loo_95_rrr,q_loo_95_robust, q_loo_95_robust_rrr))\n",
    "print(\"0.90:     {:.3f}   {:.3f}   {:.3f}   {:.3f}\".format(q_loo_90_ridge,q_loo_90_rrr,q_loo_90_robust, q_loo_90_robust_rrr))\n",
    "print(\"0.75:     {:.3f}   {:.3f}   {:.3f}   {:.3f}\".format(q_loo_75_ridge,q_loo_75_rrr,q_loo_75_robust, q_loo_75_robust_rrr))\n",
    "print(\"Median:   {:.3f}   {:.3f}   {:.3f}   {:.3f}\".format(q_loo_50_ridge,q_loo_50_rrr,q_loo_50_robust, q_loo_50_robust_rrr))\n",
    "print(\"Mean:     {:.3f}   {:.3f}   {:.3f}   {:.3f}\".format(mean_loo_ridge,mean_loo_rrr,mean_loo_robust, mean_loo_robust_rrr))"
   ]
  },
  {
   "cell_type": "code",
   "execution_count": 8,
   "metadata": {},
   "outputs": [],
   "source": [
    "# get the best (worst and mean) weights for each method and display them as histograms\n",
    "# Robust regression\n",
    "weights_robust_best_worst = weights_robust[(best_worst_robust)]\n",
    "weights_robust_best_worst_tmp = {key: torch.tensor(list(weights_robust_best_worst[key].values())) for key in weights_robust_best_worst.keys()}\n",
    "weights_robust_best_worst_to_plot = torch.mean(torch.stack(list(weights_robust_best_worst_tmp.values())), dim=0)"
   ]
  },
  {
   "cell_type": "code",
   "execution_count": 9,
   "metadata": {},
   "outputs": [
    {
     "name": "stderr",
     "output_type": "stream",
     "text": [
      "/tmp/ipykernel_24016/3898585826.py:12: UserWarning: set_ticklabels() should only be used with a fixed number of ticks, i.e. after set_ticks() or using a FixedLocator.\n",
      "  ax.set_xticklabels(list(weights_robust_best_worst_tmp.keys()), rotation=-90)\n"
     ]
    },
    {
     "data": {
      "image/png": "[encoded data removed]",
      "text/plain": [
       "<Figure size 640x480 with 1 Axes>"
      ]
     },
     "metadata": {},
     "output_type": "display_data"
    }
   ],
   "source": [
    "# display histogram of values in weights\n",
    "# plt.figure()\n",
    "# plt.hist(weights_robust_best_worst_to_plot, bins=50)\n",
    "# plt.title(\"Histogram of weights for robust regression\")\n",
    "# plt.xlabel(\"Value\")\n",
    "# plt.ylabel(\"Frequency\")\n",
    "\n",
    "fig, ax = plt.subplots()\n",
    "ax.bar(list(weights_robust_best_worst_tmp.keys()), weights_robust_best_worst_to_plot.detach().numpy(),label='Model weights')\n",
    "ax.set_ylabel(r'$\\alpha^m$')\n",
    "ax.legend()\n",
    "ax.set_xticklabels(list(weights_robust_best_worst_tmp.keys()), rotation=-90)\n",
    "plt.tight_layout()\n",
    "# plt.savefig(\"results/weights_\"+str(mu_)+\"_\"+str(lambda_)+\".eps\", dpi=150)\n",
    "plt.show()\n",
    "\n",
    "\n",
    "\n",
    "# plt.savefig(\"results/robust/histogram_weights_robust.png\")\n",
    "# plt.close()\n"
   ]
  },
  {
   "cell_type": "markdown",
   "metadata": {},
   "source": [
    "## Define the weights "
   ]
  }
 ],
 "metadata": {
  "kernelspec": {
   "display_name": "Python 3",
   "language": "python",
   "name": "python3"
  },
  "language_info": {
   "codemirror_mode": {
    "name": "ipython",
    "version": 3
   },
   "file_extension": ".py",
   "mimetype": "text/x-python",
   "name": "python",
   "nbconvert_exporter": "python",
   "pygments_lexer": "ipython3",
   "version": "3.9.18"
  }
 },
 "nbformat": 4,
 "nbformat_minor": 2
}
